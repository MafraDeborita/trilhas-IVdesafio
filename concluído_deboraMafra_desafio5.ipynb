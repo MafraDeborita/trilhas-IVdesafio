{
  "nbformat": 4,
  "nbformat_minor": 0,
  "metadata": {
    "colab": {
      "provenance": [],
      "include_colab_link": true
    },
    "kernelspec": {
      "name": "python3",
      "display_name": "Python 3"
    },
    "language_info": {
      "name": "python"
    }
  },
  "cells": [
    {
      "cell_type": "markdown",
      "metadata": {
        "id": "view-in-github",
        "colab_type": "text"
      },
      "source": [
        "<a href=\"https://colab.research.google.com/github/MafraDeborita/trilhas-IVdesafio/blob/main/conclu%C3%ADdo_deboraMafra_desafio5.ipynb\" target=\"_parent\"><img src=\"https://colab.research.google.com/assets/colab-badge.svg\" alt=\"Open In Colab\"/></a>"
      ]
    },
    {
      "cell_type": "markdown",
      "source": [
        "Debora Mafra"
      ],
      "metadata": {
        "id": "dmWfbvT2qIMY"
      }
    },
    {
      "cell_type": "markdown",
      "source": [
        "DESAFIO PROPOSTO\n",
        "\n",
        "O gerente te apresentou uma planilha da situação atual dos clientes do banco em alguns estados do nordeste. Mas, como um bom cientista de dados sabe, nem tudo são flores. Os dados, como petróleo bruto, precisam ser refinados para procedimentos posteriores! Nesse contexto, você, como analista contratado, tem a função de interpretar e apresentar insights para o gerente."
      ],
      "metadata": {
        "id": "U5WqTdRAqFAj"
      }
    },
    {
      "cell_type": "markdown",
      "source": [
        "**🫡Sua missão :**\n",
        "\n",
        "<aside>\n",
        "🛠 Utilizando suas habilidades ninja em Python e bibliotecas como Pandas e Seaborn, você deve aplicá-las para:\n",
        "\n",
        "</aside>\n",
        "\n",
        "1. Substituir o cabeçalho por palavras em letras maiúsculas;\n",
        "2. Corrigir os dados faltantes e preencher as lacunas com valores adequados;\n",
        "3. Eliminar os outliers, atribuindo no lugar deles os valores adequados;\n",
        "4. Eliminar os duplicados, para garantir a unicidade das informações;\n",
        "5. Substituir os NANs por valores adequados;\n",
        "6. Corrigir os dados categóricos, por exemplo, \"Mas\" para \"Masculino\" e \"Fem\" para \"Feminino\" para adequá-los ao padrão dos demais;\n",
        "7. Vá além das dicas fornecidas, para melhorar a sua habilidade em limpeza e tratamento de dados."
      ],
      "metadata": {
        "id": "DFCR0I9daDo5"
      }
    },
    {
      "cell_type": "code",
      "execution_count": 34,
      "metadata": {
        "id": "v1rqO1J2pigk",
        "colab": {
          "base_uri": "https://localhost:8080/"
        },
        "collapsed": true,
        "outputId": "88fafd30-effa-44f4-f48f-1f6f66d738b8"
      },
      "outputs": [
        {
          "output_type": "stream",
          "name": "stdout",
          "text": [
            "Requirement already satisfied: gspread in /usr/local/lib/python3.10/dist-packages (6.0.2)\n",
            "Requirement already satisfied: gspread-dataframe in /usr/local/lib/python3.10/dist-packages (3.3.1)\n",
            "Requirement already satisfied: google-auth>=1.12.0 in /usr/local/lib/python3.10/dist-packages (from gspread) (2.27.0)\n",
            "Requirement already satisfied: google-auth-oauthlib>=0.4.1 in /usr/local/lib/python3.10/dist-packages (from gspread) (1.2.1)\n",
            "Requirement already satisfied: StrEnum==0.4.15 in /usr/local/lib/python3.10/dist-packages (from gspread) (0.4.15)\n",
            "Requirement already satisfied: pandas>=0.24.0 in /usr/local/lib/python3.10/dist-packages (from gspread-dataframe) (2.0.3)\n",
            "Requirement already satisfied: six>=1.12.0 in /usr/local/lib/python3.10/dist-packages (from gspread-dataframe) (1.16.0)\n",
            "Requirement already satisfied: cachetools<6.0,>=2.0.0 in /usr/local/lib/python3.10/dist-packages (from google-auth>=1.12.0->gspread) (5.4.0)\n",
            "Requirement already satisfied: pyasn1-modules>=0.2.1 in /usr/local/lib/python3.10/dist-packages (from google-auth>=1.12.0->gspread) (0.4.0)\n",
            "Requirement already satisfied: rsa<5,>=3.1.4 in /usr/local/lib/python3.10/dist-packages (from google-auth>=1.12.0->gspread) (4.9)\n",
            "Requirement already satisfied: requests-oauthlib>=0.7.0 in /usr/local/lib/python3.10/dist-packages (from google-auth-oauthlib>=0.4.1->gspread) (1.3.1)\n",
            "Requirement already satisfied: python-dateutil>=2.8.2 in /usr/local/lib/python3.10/dist-packages (from pandas>=0.24.0->gspread-dataframe) (2.8.2)\n",
            "Requirement already satisfied: pytz>=2020.1 in /usr/local/lib/python3.10/dist-packages (from pandas>=0.24.0->gspread-dataframe) (2023.4)\n",
            "Requirement already satisfied: tzdata>=2022.1 in /usr/local/lib/python3.10/dist-packages (from pandas>=0.24.0->gspread-dataframe) (2024.1)\n",
            "Requirement already satisfied: numpy>=1.21.0 in /usr/local/lib/python3.10/dist-packages (from pandas>=0.24.0->gspread-dataframe) (1.25.2)\n",
            "Requirement already satisfied: pyasn1<0.7.0,>=0.4.6 in /usr/local/lib/python3.10/dist-packages (from pyasn1-modules>=0.2.1->google-auth>=1.12.0->gspread) (0.6.0)\n",
            "Requirement already satisfied: oauthlib>=3.0.0 in /usr/local/lib/python3.10/dist-packages (from requests-oauthlib>=0.7.0->google-auth-oauthlib>=0.4.1->gspread) (3.2.2)\n",
            "Requirement already satisfied: requests>=2.0.0 in /usr/local/lib/python3.10/dist-packages (from requests-oauthlib>=0.7.0->google-auth-oauthlib>=0.4.1->gspread) (2.31.0)\n",
            "Requirement already satisfied: charset-normalizer<4,>=2 in /usr/local/lib/python3.10/dist-packages (from requests>=2.0.0->requests-oauthlib>=0.7.0->google-auth-oauthlib>=0.4.1->gspread) (3.3.2)\n",
            "Requirement already satisfied: idna<4,>=2.5 in /usr/local/lib/python3.10/dist-packages (from requests>=2.0.0->requests-oauthlib>=0.7.0->google-auth-oauthlib>=0.4.1->gspread) (3.7)\n",
            "Requirement already satisfied: urllib3<3,>=1.21.1 in /usr/local/lib/python3.10/dist-packages (from requests>=2.0.0->requests-oauthlib>=0.7.0->google-auth-oauthlib>=0.4.1->gspread) (2.0.7)\n",
            "Requirement already satisfied: certifi>=2017.4.17 in /usr/local/lib/python3.10/dist-packages (from requests>=2.0.0->requests-oauthlib>=0.7.0->google-auth-oauthlib>=0.4.1->gspread) (2024.7.4)\n"
          ]
        }
      ],
      "source": [
        "!pip install gspread gspread-dataframe\n",
        "from google.colab import auth\n",
        "from google.auth import default\n",
        "import gspread\n",
        "from gspread_dataframe import get_as_dataframe\n",
        "import pandas as pd\n",
        "import numpy as np\n",
        "import matplotlib.pyplot as plt\n",
        "import seaborn as sns\n",
        "from IPython.display import HTML"
      ]
    },
    {
      "cell_type": "markdown",
      "source": [
        "##Autenticar usuário"
      ],
      "metadata": {
        "id": "MII2PMCO2KTS"
      }
    },
    {
      "cell_type": "code",
      "source": [
        "auth.authenticate_user()"
      ],
      "metadata": {
        "id": "pLHyRFf92FQq"
      },
      "execution_count": 35,
      "outputs": []
    },
    {
      "cell_type": "markdown",
      "source": [
        "##Obter credenciais padrão"
      ],
      "metadata": {
        "id": "GIQHNs0c2bKM"
      }
    },
    {
      "cell_type": "code",
      "source": [
        "creds, _ = default()"
      ],
      "metadata": {
        "id": "c4xInYjc2FFi"
      },
      "execution_count": 36,
      "outputs": []
    },
    {
      "cell_type": "markdown",
      "source": [
        "##Autorização com gspread"
      ],
      "metadata": {
        "id": "F8WgNkYk2fCT"
      }
    },
    {
      "cell_type": "code",
      "source": [
        "client = gspread.authorize(creds)"
      ],
      "metadata": {
        "id": "R-MBdS272Ety"
      },
      "execution_count": 37,
      "outputs": []
    },
    {
      "cell_type": "markdown",
      "source": [
        "Substituir pelo nome ou URL da sua planilha"
      ],
      "metadata": {
        "id": "3V7z0APh2wUK"
      }
    },
    {
      "cell_type": "code",
      "source": [
        "spreadsheet_name = \"Planilha do desafio 5 - Ciência de dados\"\n",
        "planilha = client.open(spreadsheet_name)"
      ],
      "metadata": {
        "id": "T_Q5ywaY2EGT"
      },
      "execution_count": 38,
      "outputs": []
    },
    {
      "cell_type": "markdown",
      "source": [
        "##Acessar uma aba específica da planilha"
      ],
      "metadata": {
        "id": "wavCokHN__E5"
      }
    },
    {
      "cell_type": "code",
      "source": [
        "aba = planilha.sheet1"
      ],
      "metadata": {
        "id": "I0xFplZZ_8Yk"
      },
      "execution_count": 39,
      "outputs": []
    },
    {
      "cell_type": "markdown",
      "source": [
        "Obter os dados da planilha como um DataFrame"
      ],
      "metadata": {
        "id": "F54Sa9hlANqZ"
      }
    },
    {
      "cell_type": "code",
      "source": [
        "df = get_as_dataframe(aba)"
      ],
      "metadata": {
        "id": "bIZ0SGpK_74B"
      },
      "execution_count": 40,
      "outputs": []
    },
    {
      "cell_type": "markdown",
      "source": [
        "Mostrar os dados"
      ],
      "metadata": {
        "id": "sbEvQGqdARsR"
      }
    },
    {
      "cell_type": "code",
      "source": [
        "print(df)"
      ],
      "metadata": {
        "id": "oQ0xEQKUASg1",
        "colab": {
          "base_uri": "https://localhost:8080/"
        },
        "outputId": "f233f631-3cde-471e-b60f-0bd22f960ebf"
      },
      "execution_count": 41,
      "outputs": [
        {
          "output_type": "stream",
          "name": "stdout",
          "text": [
            "          Id  Pontos Estado     Genero  Idade  Bens  Saldo na Conta  Produto  \\\n",
            "0        1.0   619.0     BA   Feminino   42.0   2.0             0.0      1.0   \n",
            "1        2.0   608.0     CE   Feminino   41.0   1.0       8380786.0      1.0   \n",
            "2        3.0   502.0     BA   Feminino   42.0   8.0       1596608.0      3.0   \n",
            "3        4.0   699.0     BA   Feminino   39.0   1.0             0.0      2.0   \n",
            "4        5.0   850.0     CE   Feminino   43.0   2.0      12551082.0      1.0   \n",
            "...      ...     ...    ...        ...    ...   ...             ...      ...   \n",
            "996    998.0   811.0     CE  Masculino   44.0   3.0             0.0      2.0   \n",
            "997    999.0   587.0     CE  Masculino   62.0   7.0      12128627.0      1.0   \n",
            "998   1000.0   811.0     CE   Feminino   28.0   4.0      16773882.0      2.0   \n",
            "999      NaN     NaN    NaN        NaN    NaN   NaN             NaN      NaN   \n",
            "1000     NaN     NaN    NaN        NaN    NaN   NaN             NaN      NaN   \n",
            "\n",
            "      Possui cartao  Ativo     Salario  Saiu  Unnamed: 12  Unnamed: 13  \n",
            "0               1.0    1.0  10134888.0   1.0          NaN          NaN  \n",
            "1               0.0    1.0  11254258.0   0.0          NaN          NaN  \n",
            "2               1.0    0.0  11393157.0   1.0          NaN          NaN  \n",
            "3               0.0    0.0   9382663.0   0.0          NaN          NaN  \n",
            "4               1.0    1.0    790841.0   0.0          NaN          NaN  \n",
            "...             ...    ...         ...   ...          ...          ...  \n",
            "996             0.0    1.0   7843973.0   0.0          NaN          NaN  \n",
            "997             0.0    1.0    677692.0   0.0          NaN          NaN  \n",
            "998             1.0    1.0    990342.0   0.0          NaN          NaN  \n",
            "999             NaN    NaN         NaN   NaN          NaN          NaN  \n",
            "1000            NaN    NaN         NaN   NaN          NaN          NaN  \n",
            "\n",
            "[1001 rows x 14 columns]\n"
          ]
        }
      ]
    },
    {
      "cell_type": "markdown",
      "source": [
        "# Remover as colunas desnecessárias"
      ],
      "metadata": {
        "id": "MwcF1k4IwXvj"
      }
    },
    {
      "cell_type": "code",
      "source": [
        "df = df.drop(['Unnamed: 12',\t'Unnamed: 13'], axis=1)"
      ],
      "metadata": {
        "id": "YfRTYfbrrU05"
      },
      "execution_count": 42,
      "outputs": []
    },
    {
      "cell_type": "markdown",
      "source": [
        "#Substituir o cabeçalho por palavras em letras maiúsculas;\n"
      ],
      "metadata": {
        "id": "1Ms0x_lbdBPz"
      }
    },
    {
      "cell_type": "code",
      "source": [
        "df.columns = df.columns.str.upper()\n",
        "df.head()"
      ],
      "metadata": {
        "colab": {
          "base_uri": "https://localhost:8080/",
          "height": 206
        },
        "id": "ryNO3R1wzItZ",
        "outputId": "dd0fc173-28aa-4ce9-8175-4d6aa95e50a0"
      },
      "execution_count": 43,
      "outputs": [
        {
          "output_type": "execute_result",
          "data": {
            "text/plain": [
              "    ID  PONTOS ESTADO    GENERO  IDADE  BENS  SALDO NA CONTA  PRODUTO  \\\n",
              "0  1.0   619.0     BA  Feminino   42.0   2.0             0.0      1.0   \n",
              "1  2.0   608.0     CE  Feminino   41.0   1.0       8380786.0      1.0   \n",
              "2  3.0   502.0     BA  Feminino   42.0   8.0       1596608.0      3.0   \n",
              "3  4.0   699.0     BA  Feminino   39.0   1.0             0.0      2.0   \n",
              "4  5.0   850.0     CE  Feminino   43.0   2.0      12551082.0      1.0   \n",
              "\n",
              "   POSSUI CARTAO  ATIVO     SALARIO  SAIU  \n",
              "0            1.0    1.0  10134888.0   1.0  \n",
              "1            0.0    1.0  11254258.0   0.0  \n",
              "2            1.0    0.0  11393157.0   1.0  \n",
              "3            0.0    0.0   9382663.0   0.0  \n",
              "4            1.0    1.0    790841.0   0.0  "
            ],
            "text/html": [
              "\n",
              "  <div id=\"df-752d667c-b426-4a3d-9de9-786dad9398ea\" class=\"colab-df-container\">\n",
              "    <div>\n",
              "<style scoped>\n",
              "    .dataframe tbody tr th:only-of-type {\n",
              "        vertical-align: middle;\n",
              "    }\n",
              "\n",
              "    .dataframe tbody tr th {\n",
              "        vertical-align: top;\n",
              "    }\n",
              "\n",
              "    .dataframe thead th {\n",
              "        text-align: right;\n",
              "    }\n",
              "</style>\n",
              "<table border=\"1\" class=\"dataframe\">\n",
              "  <thead>\n",
              "    <tr style=\"text-align: right;\">\n",
              "      <th></th>\n",
              "      <th>ID</th>\n",
              "      <th>PONTOS</th>\n",
              "      <th>ESTADO</th>\n",
              "      <th>GENERO</th>\n",
              "      <th>IDADE</th>\n",
              "      <th>BENS</th>\n",
              "      <th>SALDO NA CONTA</th>\n",
              "      <th>PRODUTO</th>\n",
              "      <th>POSSUI CARTAO</th>\n",
              "      <th>ATIVO</th>\n",
              "      <th>SALARIO</th>\n",
              "      <th>SAIU</th>\n",
              "    </tr>\n",
              "  </thead>\n",
              "  <tbody>\n",
              "    <tr>\n",
              "      <th>0</th>\n",
              "      <td>1.0</td>\n",
              "      <td>619.0</td>\n",
              "      <td>BA</td>\n",
              "      <td>Feminino</td>\n",
              "      <td>42.0</td>\n",
              "      <td>2.0</td>\n",
              "      <td>0.0</td>\n",
              "      <td>1.0</td>\n",
              "      <td>1.0</td>\n",
              "      <td>1.0</td>\n",
              "      <td>10134888.0</td>\n",
              "      <td>1.0</td>\n",
              "    </tr>\n",
              "    <tr>\n",
              "      <th>1</th>\n",
              "      <td>2.0</td>\n",
              "      <td>608.0</td>\n",
              "      <td>CE</td>\n",
              "      <td>Feminino</td>\n",
              "      <td>41.0</td>\n",
              "      <td>1.0</td>\n",
              "      <td>8380786.0</td>\n",
              "      <td>1.0</td>\n",
              "      <td>0.0</td>\n",
              "      <td>1.0</td>\n",
              "      <td>11254258.0</td>\n",
              "      <td>0.0</td>\n",
              "    </tr>\n",
              "    <tr>\n",
              "      <th>2</th>\n",
              "      <td>3.0</td>\n",
              "      <td>502.0</td>\n",
              "      <td>BA</td>\n",
              "      <td>Feminino</td>\n",
              "      <td>42.0</td>\n",
              "      <td>8.0</td>\n",
              "      <td>1596608.0</td>\n",
              "      <td>3.0</td>\n",
              "      <td>1.0</td>\n",
              "      <td>0.0</td>\n",
              "      <td>11393157.0</td>\n",
              "      <td>1.0</td>\n",
              "    </tr>\n",
              "    <tr>\n",
              "      <th>3</th>\n",
              "      <td>4.0</td>\n",
              "      <td>699.0</td>\n",
              "      <td>BA</td>\n",
              "      <td>Feminino</td>\n",
              "      <td>39.0</td>\n",
              "      <td>1.0</td>\n",
              "      <td>0.0</td>\n",
              "      <td>2.0</td>\n",
              "      <td>0.0</td>\n",
              "      <td>0.0</td>\n",
              "      <td>9382663.0</td>\n",
              "      <td>0.0</td>\n",
              "    </tr>\n",
              "    <tr>\n",
              "      <th>4</th>\n",
              "      <td>5.0</td>\n",
              "      <td>850.0</td>\n",
              "      <td>CE</td>\n",
              "      <td>Feminino</td>\n",
              "      <td>43.0</td>\n",
              "      <td>2.0</td>\n",
              "      <td>12551082.0</td>\n",
              "      <td>1.0</td>\n",
              "      <td>1.0</td>\n",
              "      <td>1.0</td>\n",
              "      <td>790841.0</td>\n",
              "      <td>0.0</td>\n",
              "    </tr>\n",
              "  </tbody>\n",
              "</table>\n",
              "</div>\n",
              "    <div class=\"colab-df-buttons\">\n",
              "\n",
              "  <div class=\"colab-df-container\">\n",
              "    <button class=\"colab-df-convert\" onclick=\"convertToInteractive('df-752d667c-b426-4a3d-9de9-786dad9398ea')\"\n",
              "            title=\"Convert this dataframe to an interactive table.\"\n",
              "            style=\"display:none;\">\n",
              "\n",
              "  <svg xmlns=\"http://www.w3.org/2000/svg\" height=\"24px\" viewBox=\"0 -960 960 960\">\n",
              "    <path d=\"M120-120v-720h720v720H120Zm60-500h600v-160H180v160Zm220 220h160v-160H400v160Zm0 220h160v-160H400v160ZM180-400h160v-160H180v160Zm440 0h160v-160H620v160ZM180-180h160v-160H180v160Zm440 0h160v-160H620v160Z\"/>\n",
              "  </svg>\n",
              "    </button>\n",
              "\n",
              "  <style>\n",
              "    .colab-df-container {\n",
              "      display:flex;\n",
              "      gap: 12px;\n",
              "    }\n",
              "\n",
              "    .colab-df-convert {\n",
              "      background-color: #E8F0FE;\n",
              "      border: none;\n",
              "      border-radius: 50%;\n",
              "      cursor: pointer;\n",
              "      display: none;\n",
              "      fill: #1967D2;\n",
              "      height: 32px;\n",
              "      padding: 0 0 0 0;\n",
              "      width: 32px;\n",
              "    }\n",
              "\n",
              "    .colab-df-convert:hover {\n",
              "      background-color: #E2EBFA;\n",
              "      box-shadow: 0px 1px 2px rgba(60, 64, 67, 0.3), 0px 1px 3px 1px rgba(60, 64, 67, 0.15);\n",
              "      fill: #174EA6;\n",
              "    }\n",
              "\n",
              "    .colab-df-buttons div {\n",
              "      margin-bottom: 4px;\n",
              "    }\n",
              "\n",
              "    [theme=dark] .colab-df-convert {\n",
              "      background-color: #3B4455;\n",
              "      fill: #D2E3FC;\n",
              "    }\n",
              "\n",
              "    [theme=dark] .colab-df-convert:hover {\n",
              "      background-color: #434B5C;\n",
              "      box-shadow: 0px 1px 3px 1px rgba(0, 0, 0, 0.15);\n",
              "      filter: drop-shadow(0px 1px 2px rgba(0, 0, 0, 0.3));\n",
              "      fill: #FFFFFF;\n",
              "    }\n",
              "  </style>\n",
              "\n",
              "    <script>\n",
              "      const buttonEl =\n",
              "        document.querySelector('#df-752d667c-b426-4a3d-9de9-786dad9398ea button.colab-df-convert');\n",
              "      buttonEl.style.display =\n",
              "        google.colab.kernel.accessAllowed ? 'block' : 'none';\n",
              "\n",
              "      async function convertToInteractive(key) {\n",
              "        const element = document.querySelector('#df-752d667c-b426-4a3d-9de9-786dad9398ea');\n",
              "        const dataTable =\n",
              "          await google.colab.kernel.invokeFunction('convertToInteractive',\n",
              "                                                    [key], {});\n",
              "        if (!dataTable) return;\n",
              "\n",
              "        const docLinkHtml = 'Like what you see? Visit the ' +\n",
              "          '<a target=\"_blank\" href=https://colab.research.google.com/notebooks/data_table.ipynb>data table notebook</a>'\n",
              "          + ' to learn more about interactive tables.';\n",
              "        element.innerHTML = '';\n",
              "        dataTable['output_type'] = 'display_data';\n",
              "        await google.colab.output.renderOutput(dataTable, element);\n",
              "        const docLink = document.createElement('div');\n",
              "        docLink.innerHTML = docLinkHtml;\n",
              "        element.appendChild(docLink);\n",
              "      }\n",
              "    </script>\n",
              "  </div>\n",
              "\n",
              "\n",
              "<div id=\"df-10a531d1-b29d-4931-8049-a886924fd1f6\">\n",
              "  <button class=\"colab-df-quickchart\" onclick=\"quickchart('df-10a531d1-b29d-4931-8049-a886924fd1f6')\"\n",
              "            title=\"Suggest charts\"\n",
              "            style=\"display:none;\">\n",
              "\n",
              "<svg xmlns=\"http://www.w3.org/2000/svg\" height=\"24px\"viewBox=\"0 0 24 24\"\n",
              "     width=\"24px\">\n",
              "    <g>\n",
              "        <path d=\"M19 3H5c-1.1 0-2 .9-2 2v14c0 1.1.9 2 2 2h14c1.1 0 2-.9 2-2V5c0-1.1-.9-2-2-2zM9 17H7v-7h2v7zm4 0h-2V7h2v10zm4 0h-2v-4h2v4z\"/>\n",
              "    </g>\n",
              "</svg>\n",
              "  </button>\n",
              "\n",
              "<style>\n",
              "  .colab-df-quickchart {\n",
              "      --bg-color: #E8F0FE;\n",
              "      --fill-color: #1967D2;\n",
              "      --hover-bg-color: #E2EBFA;\n",
              "      --hover-fill-color: #174EA6;\n",
              "      --disabled-fill-color: #AAA;\n",
              "      --disabled-bg-color: #DDD;\n",
              "  }\n",
              "\n",
              "  [theme=dark] .colab-df-quickchart {\n",
              "      --bg-color: #3B4455;\n",
              "      --fill-color: #D2E3FC;\n",
              "      --hover-bg-color: #434B5C;\n",
              "      --hover-fill-color: #FFFFFF;\n",
              "      --disabled-bg-color: #3B4455;\n",
              "      --disabled-fill-color: #666;\n",
              "  }\n",
              "\n",
              "  .colab-df-quickchart {\n",
              "    background-color: var(--bg-color);\n",
              "    border: none;\n",
              "    border-radius: 50%;\n",
              "    cursor: pointer;\n",
              "    display: none;\n",
              "    fill: var(--fill-color);\n",
              "    height: 32px;\n",
              "    padding: 0;\n",
              "    width: 32px;\n",
              "  }\n",
              "\n",
              "  .colab-df-quickchart:hover {\n",
              "    background-color: var(--hover-bg-color);\n",
              "    box-shadow: 0 1px 2px rgba(60, 64, 67, 0.3), 0 1px 3px 1px rgba(60, 64, 67, 0.15);\n",
              "    fill: var(--button-hover-fill-color);\n",
              "  }\n",
              "\n",
              "  .colab-df-quickchart-complete:disabled,\n",
              "  .colab-df-quickchart-complete:disabled:hover {\n",
              "    background-color: var(--disabled-bg-color);\n",
              "    fill: var(--disabled-fill-color);\n",
              "    box-shadow: none;\n",
              "  }\n",
              "\n",
              "  .colab-df-spinner {\n",
              "    border: 2px solid var(--fill-color);\n",
              "    border-color: transparent;\n",
              "    border-bottom-color: var(--fill-color);\n",
              "    animation:\n",
              "      spin 1s steps(1) infinite;\n",
              "  }\n",
              "\n",
              "  @keyframes spin {\n",
              "    0% {\n",
              "      border-color: transparent;\n",
              "      border-bottom-color: var(--fill-color);\n",
              "      border-left-color: var(--fill-color);\n",
              "    }\n",
              "    20% {\n",
              "      border-color: transparent;\n",
              "      border-left-color: var(--fill-color);\n",
              "      border-top-color: var(--fill-color);\n",
              "    }\n",
              "    30% {\n",
              "      border-color: transparent;\n",
              "      border-left-color: var(--fill-color);\n",
              "      border-top-color: var(--fill-color);\n",
              "      border-right-color: var(--fill-color);\n",
              "    }\n",
              "    40% {\n",
              "      border-color: transparent;\n",
              "      border-right-color: var(--fill-color);\n",
              "      border-top-color: var(--fill-color);\n",
              "    }\n",
              "    60% {\n",
              "      border-color: transparent;\n",
              "      border-right-color: var(--fill-color);\n",
              "    }\n",
              "    80% {\n",
              "      border-color: transparent;\n",
              "      border-right-color: var(--fill-color);\n",
              "      border-bottom-color: var(--fill-color);\n",
              "    }\n",
              "    90% {\n",
              "      border-color: transparent;\n",
              "      border-bottom-color: var(--fill-color);\n",
              "    }\n",
              "  }\n",
              "</style>\n",
              "\n",
              "  <script>\n",
              "    async function quickchart(key) {\n",
              "      const quickchartButtonEl =\n",
              "        document.querySelector('#' + key + ' button');\n",
              "      quickchartButtonEl.disabled = true;  // To prevent multiple clicks.\n",
              "      quickchartButtonEl.classList.add('colab-df-spinner');\n",
              "      try {\n",
              "        const charts = await google.colab.kernel.invokeFunction(\n",
              "            'suggestCharts', [key], {});\n",
              "      } catch (error) {\n",
              "        console.error('Error during call to suggestCharts:', error);\n",
              "      }\n",
              "      quickchartButtonEl.classList.remove('colab-df-spinner');\n",
              "      quickchartButtonEl.classList.add('colab-df-quickchart-complete');\n",
              "    }\n",
              "    (() => {\n",
              "      let quickchartButtonEl =\n",
              "        document.querySelector('#df-10a531d1-b29d-4931-8049-a886924fd1f6 button');\n",
              "      quickchartButtonEl.style.display =\n",
              "        google.colab.kernel.accessAllowed ? 'block' : 'none';\n",
              "    })();\n",
              "  </script>\n",
              "</div>\n",
              "\n",
              "    </div>\n",
              "  </div>\n"
            ],
            "application/vnd.google.colaboratory.intrinsic+json": {
              "type": "dataframe",
              "variable_name": "df",
              "summary": "{\n  \"name\": \"df\",\n  \"rows\": 1001,\n  \"fields\": [\n    {\n      \"column\": \"ID\",\n      \"properties\": {\n        \"dtype\": \"number\",\n        \"std\": 288.6628840453078,\n        \"min\": 1.0,\n        \"max\": 1000.0,\n        \"num_unique_values\": 998,\n        \"samples\": [\n          456.0,\n          795.0,\n          212.0\n        ],\n        \"semantic_type\": \"\",\n        \"description\": \"\"\n      }\n    },\n    {\n      \"column\": \"PONTOS\",\n      \"properties\": {\n        \"dtype\": \"number\",\n        \"std\": 98.26421874897119,\n        \"min\": 376.0,\n        \"max\": 850.0,\n        \"num_unique_values\": 354,\n        \"samples\": [\n          840.0,\n          660.0,\n          417.0\n        ],\n        \"semantic_type\": \"\",\n        \"description\": \"\"\n      }\n    },\n    {\n      \"column\": \"ESTADO\",\n      \"properties\": {\n        \"dtype\": \"category\",\n        \"num_unique_values\": 6,\n        \"samples\": [\n          \"BA\",\n          \"CE\",\n          \"RJ\"\n        ],\n        \"semantic_type\": \"\",\n        \"description\": \"\"\n      }\n    },\n    {\n      \"column\": \"GENERO\",\n      \"properties\": {\n        \"dtype\": \"category\",\n        \"num_unique_values\": 5,\n        \"samples\": [\n          \"Masculino\",\n          \"Fem\",\n          \"M\"\n        ],\n        \"semantic_type\": \"\",\n        \"description\": \"\"\n      }\n    },\n    {\n      \"column\": \"IDADE\",\n      \"properties\": {\n        \"dtype\": \"number\",\n        \"std\": 11.40191162740265,\n        \"min\": -20.0,\n        \"max\": 140.0,\n        \"num_unique_values\": 64,\n        \"samples\": [\n          60.0,\n          69.0,\n          42.0\n        ],\n        \"semantic_type\": \"\",\n        \"description\": \"\"\n      }\n    },\n    {\n      \"column\": \"BENS\",\n      \"properties\": {\n        \"dtype\": \"number\",\n        \"std\": 2.927691409320773,\n        \"min\": 0.0,\n        \"max\": 10.0,\n        \"num_unique_values\": 11,\n        \"samples\": [\n          6.0,\n          2.0,\n          9.0\n        ],\n        \"semantic_type\": \"\",\n        \"description\": \"\"\n      }\n    },\n    {\n      \"column\": \"SALDO NA CONTA\",\n      \"properties\": {\n        \"dtype\": \"number\",\n        \"std\": 6311840.125836206,\n        \"min\": 0.0,\n        \"max\": 21177431.0,\n        \"num_unique_values\": 649,\n        \"samples\": [\n          12453278.0,\n          18784199.0,\n          13380229.0\n        ],\n        \"semantic_type\": \"\",\n        \"description\": \"\"\n      }\n    },\n    {\n      \"column\": \"PRODUTO\",\n      \"properties\": {\n        \"dtype\": \"number\",\n        \"std\": 0.5742007140077248,\n        \"min\": 1.0,\n        \"max\": 4.0,\n        \"num_unique_values\": 4,\n        \"samples\": [\n          3.0,\n          4.0,\n          1.0\n        ],\n        \"semantic_type\": \"\",\n        \"description\": \"\"\n      }\n    },\n    {\n      \"column\": \"POSSUI CARTAO\",\n      \"properties\": {\n        \"dtype\": \"number\",\n        \"std\": 0.457297435584201,\n        \"min\": 0.0,\n        \"max\": 1.0,\n        \"num_unique_values\": 2,\n        \"samples\": [\n          0.0,\n          1.0\n        ],\n        \"semantic_type\": \"\",\n        \"description\": \"\"\n      }\n    },\n    {\n      \"column\": \"ATIVO\",\n      \"properties\": {\n        \"dtype\": \"number\",\n        \"std\": 0.5001599540336046,\n        \"min\": 0.0,\n        \"max\": 1.0,\n        \"num_unique_values\": 2,\n        \"samples\": [\n          0.0,\n          1.0\n        ],\n        \"semantic_type\": \"\",\n        \"description\": \"\"\n      }\n    },\n    {\n      \"column\": \"SALARIO\",\n      \"properties\": {\n        \"dtype\": \"number\",\n        \"std\": 530579988.3011111,\n        \"min\": 9677.0,\n        \"max\": 11934688000.0,\n        \"num_unique_values\": 987,\n        \"samples\": [\n          12054083.0,\n          19331833.0\n        ],\n        \"semantic_type\": \"\",\n        \"description\": \"\"\n      }\n    },\n    {\n      \"column\": \"SAIU\",\n      \"properties\": {\n        \"dtype\": \"number\",\n        \"std\": 0.40258402544666305,\n        \"min\": 0.0,\n        \"max\": 1.0,\n        \"num_unique_values\": 2,\n        \"samples\": [\n          0.0,\n          1.0\n        ],\n        \"semantic_type\": \"\",\n        \"description\": \"\"\n      }\n    }\n  ]\n}"
            }
          },
          "metadata": {},
          "execution_count": 43
        }
      ]
    },
    {
      "cell_type": "code",
      "source": [
        "df"
      ],
      "metadata": {
        "colab": {
          "base_uri": "https://localhost:8080/",
          "height": 424
        },
        "id": "H1KR_b27mCLw",
        "outputId": "931c1f62-b35e-454e-90f9-a967212d2838"
      },
      "execution_count": 44,
      "outputs": [
        {
          "output_type": "execute_result",
          "data": {
            "text/plain": [
              "          ID  PONTOS ESTADO     GENERO  IDADE  BENS  SALDO NA CONTA  PRODUTO  \\\n",
              "0        1.0   619.0     BA   Feminino   42.0   2.0             0.0      1.0   \n",
              "1        2.0   608.0     CE   Feminino   41.0   1.0       8380786.0      1.0   \n",
              "2        3.0   502.0     BA   Feminino   42.0   8.0       1596608.0      3.0   \n",
              "3        4.0   699.0     BA   Feminino   39.0   1.0             0.0      2.0   \n",
              "4        5.0   850.0     CE   Feminino   43.0   2.0      12551082.0      1.0   \n",
              "...      ...     ...    ...        ...    ...   ...             ...      ...   \n",
              "996    998.0   811.0     CE  Masculino   44.0   3.0             0.0      2.0   \n",
              "997    999.0   587.0     CE  Masculino   62.0   7.0      12128627.0      1.0   \n",
              "998   1000.0   811.0     CE   Feminino   28.0   4.0      16773882.0      2.0   \n",
              "999      NaN     NaN    NaN        NaN    NaN   NaN             NaN      NaN   \n",
              "1000     NaN     NaN    NaN        NaN    NaN   NaN             NaN      NaN   \n",
              "\n",
              "      POSSUI CARTAO  ATIVO     SALARIO  SAIU  \n",
              "0               1.0    1.0  10134888.0   1.0  \n",
              "1               0.0    1.0  11254258.0   0.0  \n",
              "2               1.0    0.0  11393157.0   1.0  \n",
              "3               0.0    0.0   9382663.0   0.0  \n",
              "4               1.0    1.0    790841.0   0.0  \n",
              "...             ...    ...         ...   ...  \n",
              "996             0.0    1.0   7843973.0   0.0  \n",
              "997             0.0    1.0    677692.0   0.0  \n",
              "998             1.0    1.0    990342.0   0.0  \n",
              "999             NaN    NaN         NaN   NaN  \n",
              "1000            NaN    NaN         NaN   NaN  \n",
              "\n",
              "[1001 rows x 12 columns]"
            ],
            "text/html": [
              "\n",
              "  <div id=\"df-1ec46440-3ebf-4e33-a000-a49636d766d4\" class=\"colab-df-container\">\n",
              "    <div>\n",
              "<style scoped>\n",
              "    .dataframe tbody tr th:only-of-type {\n",
              "        vertical-align: middle;\n",
              "    }\n",
              "\n",
              "    .dataframe tbody tr th {\n",
              "        vertical-align: top;\n",
              "    }\n",
              "\n",
              "    .dataframe thead th {\n",
              "        text-align: right;\n",
              "    }\n",
              "</style>\n",
              "<table border=\"1\" class=\"dataframe\">\n",
              "  <thead>\n",
              "    <tr style=\"text-align: right;\">\n",
              "      <th></th>\n",
              "      <th>ID</th>\n",
              "      <th>PONTOS</th>\n",
              "      <th>ESTADO</th>\n",
              "      <th>GENERO</th>\n",
              "      <th>IDADE</th>\n",
              "      <th>BENS</th>\n",
              "      <th>SALDO NA CONTA</th>\n",
              "      <th>PRODUTO</th>\n",
              "      <th>POSSUI CARTAO</th>\n",
              "      <th>ATIVO</th>\n",
              "      <th>SALARIO</th>\n",
              "      <th>SAIU</th>\n",
              "    </tr>\n",
              "  </thead>\n",
              "  <tbody>\n",
              "    <tr>\n",
              "      <th>0</th>\n",
              "      <td>1.0</td>\n",
              "      <td>619.0</td>\n",
              "      <td>BA</td>\n",
              "      <td>Feminino</td>\n",
              "      <td>42.0</td>\n",
              "      <td>2.0</td>\n",
              "      <td>0.0</td>\n",
              "      <td>1.0</td>\n",
              "      <td>1.0</td>\n",
              "      <td>1.0</td>\n",
              "      <td>10134888.0</td>\n",
              "      <td>1.0</td>\n",
              "    </tr>\n",
              "    <tr>\n",
              "      <th>1</th>\n",
              "      <td>2.0</td>\n",
              "      <td>608.0</td>\n",
              "      <td>CE</td>\n",
              "      <td>Feminino</td>\n",
              "      <td>41.0</td>\n",
              "      <td>1.0</td>\n",
              "      <td>8380786.0</td>\n",
              "      <td>1.0</td>\n",
              "      <td>0.0</td>\n",
              "      <td>1.0</td>\n",
              "      <td>11254258.0</td>\n",
              "      <td>0.0</td>\n",
              "    </tr>\n",
              "    <tr>\n",
              "      <th>2</th>\n",
              "      <td>3.0</td>\n",
              "      <td>502.0</td>\n",
              "      <td>BA</td>\n",
              "      <td>Feminino</td>\n",
              "      <td>42.0</td>\n",
              "      <td>8.0</td>\n",
              "      <td>1596608.0</td>\n",
              "      <td>3.0</td>\n",
              "      <td>1.0</td>\n",
              "      <td>0.0</td>\n",
              "      <td>11393157.0</td>\n",
              "      <td>1.0</td>\n",
              "    </tr>\n",
              "    <tr>\n",
              "      <th>3</th>\n",
              "      <td>4.0</td>\n",
              "      <td>699.0</td>\n",
              "      <td>BA</td>\n",
              "      <td>Feminino</td>\n",
              "      <td>39.0</td>\n",
              "      <td>1.0</td>\n",
              "      <td>0.0</td>\n",
              "      <td>2.0</td>\n",
              "      <td>0.0</td>\n",
              "      <td>0.0</td>\n",
              "      <td>9382663.0</td>\n",
              "      <td>0.0</td>\n",
              "    </tr>\n",
              "    <tr>\n",
              "      <th>4</th>\n",
              "      <td>5.0</td>\n",
              "      <td>850.0</td>\n",
              "      <td>CE</td>\n",
              "      <td>Feminino</td>\n",
              "      <td>43.0</td>\n",
              "      <td>2.0</td>\n",
              "      <td>12551082.0</td>\n",
              "      <td>1.0</td>\n",
              "      <td>1.0</td>\n",
              "      <td>1.0</td>\n",
              "      <td>790841.0</td>\n",
              "      <td>0.0</td>\n",
              "    </tr>\n",
              "    <tr>\n",
              "      <th>...</th>\n",
              "      <td>...</td>\n",
              "      <td>...</td>\n",
              "      <td>...</td>\n",
              "      <td>...</td>\n",
              "      <td>...</td>\n",
              "      <td>...</td>\n",
              "      <td>...</td>\n",
              "      <td>...</td>\n",
              "      <td>...</td>\n",
              "      <td>...</td>\n",
              "      <td>...</td>\n",
              "      <td>...</td>\n",
              "    </tr>\n",
              "    <tr>\n",
              "      <th>996</th>\n",
              "      <td>998.0</td>\n",
              "      <td>811.0</td>\n",
              "      <td>CE</td>\n",
              "      <td>Masculino</td>\n",
              "      <td>44.0</td>\n",
              "      <td>3.0</td>\n",
              "      <td>0.0</td>\n",
              "      <td>2.0</td>\n",
              "      <td>0.0</td>\n",
              "      <td>1.0</td>\n",
              "      <td>7843973.0</td>\n",
              "      <td>0.0</td>\n",
              "    </tr>\n",
              "    <tr>\n",
              "      <th>997</th>\n",
              "      <td>999.0</td>\n",
              "      <td>587.0</td>\n",
              "      <td>CE</td>\n",
              "      <td>Masculino</td>\n",
              "      <td>62.0</td>\n",
              "      <td>7.0</td>\n",
              "      <td>12128627.0</td>\n",
              "      <td>1.0</td>\n",
              "      <td>0.0</td>\n",
              "      <td>1.0</td>\n",
              "      <td>677692.0</td>\n",
              "      <td>0.0</td>\n",
              "    </tr>\n",
              "    <tr>\n",
              "      <th>998</th>\n",
              "      <td>1000.0</td>\n",
              "      <td>811.0</td>\n",
              "      <td>CE</td>\n",
              "      <td>Feminino</td>\n",
              "      <td>28.0</td>\n",
              "      <td>4.0</td>\n",
              "      <td>16773882.0</td>\n",
              "      <td>2.0</td>\n",
              "      <td>1.0</td>\n",
              "      <td>1.0</td>\n",
              "      <td>990342.0</td>\n",
              "      <td>0.0</td>\n",
              "    </tr>\n",
              "    <tr>\n",
              "      <th>999</th>\n",
              "      <td>NaN</td>\n",
              "      <td>NaN</td>\n",
              "      <td>NaN</td>\n",
              "      <td>NaN</td>\n",
              "      <td>NaN</td>\n",
              "      <td>NaN</td>\n",
              "      <td>NaN</td>\n",
              "      <td>NaN</td>\n",
              "      <td>NaN</td>\n",
              "      <td>NaN</td>\n",
              "      <td>NaN</td>\n",
              "      <td>NaN</td>\n",
              "    </tr>\n",
              "    <tr>\n",
              "      <th>1000</th>\n",
              "      <td>NaN</td>\n",
              "      <td>NaN</td>\n",
              "      <td>NaN</td>\n",
              "      <td>NaN</td>\n",
              "      <td>NaN</td>\n",
              "      <td>NaN</td>\n",
              "      <td>NaN</td>\n",
              "      <td>NaN</td>\n",
              "      <td>NaN</td>\n",
              "      <td>NaN</td>\n",
              "      <td>NaN</td>\n",
              "      <td>NaN</td>\n",
              "    </tr>\n",
              "  </tbody>\n",
              "</table>\n",
              "<p>1001 rows × 12 columns</p>\n",
              "</div>\n",
              "    <div class=\"colab-df-buttons\">\n",
              "\n",
              "  <div class=\"colab-df-container\">\n",
              "    <button class=\"colab-df-convert\" onclick=\"convertToInteractive('df-1ec46440-3ebf-4e33-a000-a49636d766d4')\"\n",
              "            title=\"Convert this dataframe to an interactive table.\"\n",
              "            style=\"display:none;\">\n",
              "\n",
              "  <svg xmlns=\"http://www.w3.org/2000/svg\" height=\"24px\" viewBox=\"0 -960 960 960\">\n",
              "    <path d=\"M120-120v-720h720v720H120Zm60-500h600v-160H180v160Zm220 220h160v-160H400v160Zm0 220h160v-160H400v160ZM180-400h160v-160H180v160Zm440 0h160v-160H620v160ZM180-180h160v-160H180v160Zm440 0h160v-160H620v160Z\"/>\n",
              "  </svg>\n",
              "    </button>\n",
              "\n",
              "  <style>\n",
              "    .colab-df-container {\n",
              "      display:flex;\n",
              "      gap: 12px;\n",
              "    }\n",
              "\n",
              "    .colab-df-convert {\n",
              "      background-color: #E8F0FE;\n",
              "      border: none;\n",
              "      border-radius: 50%;\n",
              "      cursor: pointer;\n",
              "      display: none;\n",
              "      fill: #1967D2;\n",
              "      height: 32px;\n",
              "      padding: 0 0 0 0;\n",
              "      width: 32px;\n",
              "    }\n",
              "\n",
              "    .colab-df-convert:hover {\n",
              "      background-color: #E2EBFA;\n",
              "      box-shadow: 0px 1px 2px rgba(60, 64, 67, 0.3), 0px 1px 3px 1px rgba(60, 64, 67, 0.15);\n",
              "      fill: #174EA6;\n",
              "    }\n",
              "\n",
              "    .colab-df-buttons div {\n",
              "      margin-bottom: 4px;\n",
              "    }\n",
              "\n",
              "    [theme=dark] .colab-df-convert {\n",
              "      background-color: #3B4455;\n",
              "      fill: #D2E3FC;\n",
              "    }\n",
              "\n",
              "    [theme=dark] .colab-df-convert:hover {\n",
              "      background-color: #434B5C;\n",
              "      box-shadow: 0px 1px 3px 1px rgba(0, 0, 0, 0.15);\n",
              "      filter: drop-shadow(0px 1px 2px rgba(0, 0, 0, 0.3));\n",
              "      fill: #FFFFFF;\n",
              "    }\n",
              "  </style>\n",
              "\n",
              "    <script>\n",
              "      const buttonEl =\n",
              "        document.querySelector('#df-1ec46440-3ebf-4e33-a000-a49636d766d4 button.colab-df-convert');\n",
              "      buttonEl.style.display =\n",
              "        google.colab.kernel.accessAllowed ? 'block' : 'none';\n",
              "\n",
              "      async function convertToInteractive(key) {\n",
              "        const element = document.querySelector('#df-1ec46440-3ebf-4e33-a000-a49636d766d4');\n",
              "        const dataTable =\n",
              "          await google.colab.kernel.invokeFunction('convertToInteractive',\n",
              "                                                    [key], {});\n",
              "        if (!dataTable) return;\n",
              "\n",
              "        const docLinkHtml = 'Like what you see? Visit the ' +\n",
              "          '<a target=\"_blank\" href=https://colab.research.google.com/notebooks/data_table.ipynb>data table notebook</a>'\n",
              "          + ' to learn more about interactive tables.';\n",
              "        element.innerHTML = '';\n",
              "        dataTable['output_type'] = 'display_data';\n",
              "        await google.colab.output.renderOutput(dataTable, element);\n",
              "        const docLink = document.createElement('div');\n",
              "        docLink.innerHTML = docLinkHtml;\n",
              "        element.appendChild(docLink);\n",
              "      }\n",
              "    </script>\n",
              "  </div>\n",
              "\n",
              "\n",
              "<div id=\"df-34a91374-c1ec-4ea4-85a4-22cc15f23dd0\">\n",
              "  <button class=\"colab-df-quickchart\" onclick=\"quickchart('df-34a91374-c1ec-4ea4-85a4-22cc15f23dd0')\"\n",
              "            title=\"Suggest charts\"\n",
              "            style=\"display:none;\">\n",
              "\n",
              "<svg xmlns=\"http://www.w3.org/2000/svg\" height=\"24px\"viewBox=\"0 0 24 24\"\n",
              "     width=\"24px\">\n",
              "    <g>\n",
              "        <path d=\"M19 3H5c-1.1 0-2 .9-2 2v14c0 1.1.9 2 2 2h14c1.1 0 2-.9 2-2V5c0-1.1-.9-2-2-2zM9 17H7v-7h2v7zm4 0h-2V7h2v10zm4 0h-2v-4h2v4z\"/>\n",
              "    </g>\n",
              "</svg>\n",
              "  </button>\n",
              "\n",
              "<style>\n",
              "  .colab-df-quickchart {\n",
              "      --bg-color: #E8F0FE;\n",
              "      --fill-color: #1967D2;\n",
              "      --hover-bg-color: #E2EBFA;\n",
              "      --hover-fill-color: #174EA6;\n",
              "      --disabled-fill-color: #AAA;\n",
              "      --disabled-bg-color: #DDD;\n",
              "  }\n",
              "\n",
              "  [theme=dark] .colab-df-quickchart {\n",
              "      --bg-color: #3B4455;\n",
              "      --fill-color: #D2E3FC;\n",
              "      --hover-bg-color: #434B5C;\n",
              "      --hover-fill-color: #FFFFFF;\n",
              "      --disabled-bg-color: #3B4455;\n",
              "      --disabled-fill-color: #666;\n",
              "  }\n",
              "\n",
              "  .colab-df-quickchart {\n",
              "    background-color: var(--bg-color);\n",
              "    border: none;\n",
              "    border-radius: 50%;\n",
              "    cursor: pointer;\n",
              "    display: none;\n",
              "    fill: var(--fill-color);\n",
              "    height: 32px;\n",
              "    padding: 0;\n",
              "    width: 32px;\n",
              "  }\n",
              "\n",
              "  .colab-df-quickchart:hover {\n",
              "    background-color: var(--hover-bg-color);\n",
              "    box-shadow: 0 1px 2px rgba(60, 64, 67, 0.3), 0 1px 3px 1px rgba(60, 64, 67, 0.15);\n",
              "    fill: var(--button-hover-fill-color);\n",
              "  }\n",
              "\n",
              "  .colab-df-quickchart-complete:disabled,\n",
              "  .colab-df-quickchart-complete:disabled:hover {\n",
              "    background-color: var(--disabled-bg-color);\n",
              "    fill: var(--disabled-fill-color);\n",
              "    box-shadow: none;\n",
              "  }\n",
              "\n",
              "  .colab-df-spinner {\n",
              "    border: 2px solid var(--fill-color);\n",
              "    border-color: transparent;\n",
              "    border-bottom-color: var(--fill-color);\n",
              "    animation:\n",
              "      spin 1s steps(1) infinite;\n",
              "  }\n",
              "\n",
              "  @keyframes spin {\n",
              "    0% {\n",
              "      border-color: transparent;\n",
              "      border-bottom-color: var(--fill-color);\n",
              "      border-left-color: var(--fill-color);\n",
              "    }\n",
              "    20% {\n",
              "      border-color: transparent;\n",
              "      border-left-color: var(--fill-color);\n",
              "      border-top-color: var(--fill-color);\n",
              "    }\n",
              "    30% {\n",
              "      border-color: transparent;\n",
              "      border-left-color: var(--fill-color);\n",
              "      border-top-color: var(--fill-color);\n",
              "      border-right-color: var(--fill-color);\n",
              "    }\n",
              "    40% {\n",
              "      border-color: transparent;\n",
              "      border-right-color: var(--fill-color);\n",
              "      border-top-color: var(--fill-color);\n",
              "    }\n",
              "    60% {\n",
              "      border-color: transparent;\n",
              "      border-right-color: var(--fill-color);\n",
              "    }\n",
              "    80% {\n",
              "      border-color: transparent;\n",
              "      border-right-color: var(--fill-color);\n",
              "      border-bottom-color: var(--fill-color);\n",
              "    }\n",
              "    90% {\n",
              "      border-color: transparent;\n",
              "      border-bottom-color: var(--fill-color);\n",
              "    }\n",
              "  }\n",
              "</style>\n",
              "\n",
              "  <script>\n",
              "    async function quickchart(key) {\n",
              "      const quickchartButtonEl =\n",
              "        document.querySelector('#' + key + ' button');\n",
              "      quickchartButtonEl.disabled = true;  // To prevent multiple clicks.\n",
              "      quickchartButtonEl.classList.add('colab-df-spinner');\n",
              "      try {\n",
              "        const charts = await google.colab.kernel.invokeFunction(\n",
              "            'suggestCharts', [key], {});\n",
              "      } catch (error) {\n",
              "        console.error('Error during call to suggestCharts:', error);\n",
              "      }\n",
              "      quickchartButtonEl.classList.remove('colab-df-spinner');\n",
              "      quickchartButtonEl.classList.add('colab-df-quickchart-complete');\n",
              "    }\n",
              "    (() => {\n",
              "      let quickchartButtonEl =\n",
              "        document.querySelector('#df-34a91374-c1ec-4ea4-85a4-22cc15f23dd0 button');\n",
              "      quickchartButtonEl.style.display =\n",
              "        google.colab.kernel.accessAllowed ? 'block' : 'none';\n",
              "    })();\n",
              "  </script>\n",
              "</div>\n",
              "\n",
              "  <div id=\"id_2e068bc1-af69-428a-a656-34d79a1c7dac\">\n",
              "    <style>\n",
              "      .colab-df-generate {\n",
              "        background-color: #E8F0FE;\n",
              "        border: none;\n",
              "        border-radius: 50%;\n",
              "        cursor: pointer;\n",
              "        display: none;\n",
              "        fill: #1967D2;\n",
              "        height: 32px;\n",
              "        padding: 0 0 0 0;\n",
              "        width: 32px;\n",
              "      }\n",
              "\n",
              "      .colab-df-generate:hover {\n",
              "        background-color: #E2EBFA;\n",
              "        box-shadow: 0px 1px 2px rgba(60, 64, 67, 0.3), 0px 1px 3px 1px rgba(60, 64, 67, 0.15);\n",
              "        fill: #174EA6;\n",
              "      }\n",
              "\n",
              "      [theme=dark] .colab-df-generate {\n",
              "        background-color: #3B4455;\n",
              "        fill: #D2E3FC;\n",
              "      }\n",
              "\n",
              "      [theme=dark] .colab-df-generate:hover {\n",
              "        background-color: #434B5C;\n",
              "        box-shadow: 0px 1px 3px 1px rgba(0, 0, 0, 0.15);\n",
              "        filter: drop-shadow(0px 1px 2px rgba(0, 0, 0, 0.3));\n",
              "        fill: #FFFFFF;\n",
              "      }\n",
              "    </style>\n",
              "    <button class=\"colab-df-generate\" onclick=\"generateWithVariable('df')\"\n",
              "            title=\"Generate code using this dataframe.\"\n",
              "            style=\"display:none;\">\n",
              "\n",
              "  <svg xmlns=\"http://www.w3.org/2000/svg\" height=\"24px\"viewBox=\"0 0 24 24\"\n",
              "       width=\"24px\">\n",
              "    <path d=\"M7,19H8.4L18.45,9,17,7.55,7,17.6ZM5,21V16.75L18.45,3.32a2,2,0,0,1,2.83,0l1.4,1.43a1.91,1.91,0,0,1,.58,1.4,1.91,1.91,0,0,1-.58,1.4L9.25,21ZM18.45,9,17,7.55Zm-12,3A5.31,5.31,0,0,0,4.9,8.1,5.31,5.31,0,0,0,1,6.5,5.31,5.31,0,0,0,4.9,4.9,5.31,5.31,0,0,0,6.5,1,5.31,5.31,0,0,0,8.1,4.9,5.31,5.31,0,0,0,12,6.5,5.46,5.46,0,0,0,6.5,12Z\"/>\n",
              "  </svg>\n",
              "    </button>\n",
              "    <script>\n",
              "      (() => {\n",
              "      const buttonEl =\n",
              "        document.querySelector('#id_2e068bc1-af69-428a-a656-34d79a1c7dac button.colab-df-generate');\n",
              "      buttonEl.style.display =\n",
              "        google.colab.kernel.accessAllowed ? 'block' : 'none';\n",
              "\n",
              "      buttonEl.onclick = () => {\n",
              "        google.colab.notebook.generateWithVariable('df');\n",
              "      }\n",
              "      })();\n",
              "    </script>\n",
              "  </div>\n",
              "\n",
              "    </div>\n",
              "  </div>\n"
            ],
            "application/vnd.google.colaboratory.intrinsic+json": {
              "type": "dataframe",
              "variable_name": "df",
              "summary": "{\n  \"name\": \"df\",\n  \"rows\": 1001,\n  \"fields\": [\n    {\n      \"column\": \"ID\",\n      \"properties\": {\n        \"dtype\": \"number\",\n        \"std\": 288.6628840453078,\n        \"min\": 1.0,\n        \"max\": 1000.0,\n        \"num_unique_values\": 998,\n        \"samples\": [\n          456.0,\n          795.0,\n          212.0\n        ],\n        \"semantic_type\": \"\",\n        \"description\": \"\"\n      }\n    },\n    {\n      \"column\": \"PONTOS\",\n      \"properties\": {\n        \"dtype\": \"number\",\n        \"std\": 98.26421874897119,\n        \"min\": 376.0,\n        \"max\": 850.0,\n        \"num_unique_values\": 354,\n        \"samples\": [\n          840.0,\n          660.0,\n          417.0\n        ],\n        \"semantic_type\": \"\",\n        \"description\": \"\"\n      }\n    },\n    {\n      \"column\": \"ESTADO\",\n      \"properties\": {\n        \"dtype\": \"category\",\n        \"num_unique_values\": 6,\n        \"samples\": [\n          \"BA\",\n          \"CE\",\n          \"RJ\"\n        ],\n        \"semantic_type\": \"\",\n        \"description\": \"\"\n      }\n    },\n    {\n      \"column\": \"GENERO\",\n      \"properties\": {\n        \"dtype\": \"category\",\n        \"num_unique_values\": 5,\n        \"samples\": [\n          \"Masculino\",\n          \"Fem\",\n          \"M\"\n        ],\n        \"semantic_type\": \"\",\n        \"description\": \"\"\n      }\n    },\n    {\n      \"column\": \"IDADE\",\n      \"properties\": {\n        \"dtype\": \"number\",\n        \"std\": 11.40191162740265,\n        \"min\": -20.0,\n        \"max\": 140.0,\n        \"num_unique_values\": 64,\n        \"samples\": [\n          60.0,\n          69.0,\n          42.0\n        ],\n        \"semantic_type\": \"\",\n        \"description\": \"\"\n      }\n    },\n    {\n      \"column\": \"BENS\",\n      \"properties\": {\n        \"dtype\": \"number\",\n        \"std\": 2.927691409320773,\n        \"min\": 0.0,\n        \"max\": 10.0,\n        \"num_unique_values\": 11,\n        \"samples\": [\n          6.0,\n          2.0,\n          9.0\n        ],\n        \"semantic_type\": \"\",\n        \"description\": \"\"\n      }\n    },\n    {\n      \"column\": \"SALDO NA CONTA\",\n      \"properties\": {\n        \"dtype\": \"number\",\n        \"std\": 6311840.125836206,\n        \"min\": 0.0,\n        \"max\": 21177431.0,\n        \"num_unique_values\": 649,\n        \"samples\": [\n          12453278.0,\n          18784199.0,\n          13380229.0\n        ],\n        \"semantic_type\": \"\",\n        \"description\": \"\"\n      }\n    },\n    {\n      \"column\": \"PRODUTO\",\n      \"properties\": {\n        \"dtype\": \"number\",\n        \"std\": 0.5742007140077248,\n        \"min\": 1.0,\n        \"max\": 4.0,\n        \"num_unique_values\": 4,\n        \"samples\": [\n          3.0,\n          4.0,\n          1.0\n        ],\n        \"semantic_type\": \"\",\n        \"description\": \"\"\n      }\n    },\n    {\n      \"column\": \"POSSUI CARTAO\",\n      \"properties\": {\n        \"dtype\": \"number\",\n        \"std\": 0.457297435584201,\n        \"min\": 0.0,\n        \"max\": 1.0,\n        \"num_unique_values\": 2,\n        \"samples\": [\n          0.0,\n          1.0\n        ],\n        \"semantic_type\": \"\",\n        \"description\": \"\"\n      }\n    },\n    {\n      \"column\": \"ATIVO\",\n      \"properties\": {\n        \"dtype\": \"number\",\n        \"std\": 0.5001599540336046,\n        \"min\": 0.0,\n        \"max\": 1.0,\n        \"num_unique_values\": 2,\n        \"samples\": [\n          0.0,\n          1.0\n        ],\n        \"semantic_type\": \"\",\n        \"description\": \"\"\n      }\n    },\n    {\n      \"column\": \"SALARIO\",\n      \"properties\": {\n        \"dtype\": \"number\",\n        \"std\": 530579988.3011111,\n        \"min\": 9677.0,\n        \"max\": 11934688000.0,\n        \"num_unique_values\": 987,\n        \"samples\": [\n          12054083.0,\n          19331833.0\n        ],\n        \"semantic_type\": \"\",\n        \"description\": \"\"\n      }\n    },\n    {\n      \"column\": \"SAIU\",\n      \"properties\": {\n        \"dtype\": \"number\",\n        \"std\": 0.40258402544666305,\n        \"min\": 0.0,\n        \"max\": 1.0,\n        \"num_unique_values\": 2,\n        \"samples\": [\n          0.0,\n          1.0\n        ],\n        \"semantic_type\": \"\",\n        \"description\": \"\"\n      }\n    }\n  ]\n}"
            }
          },
          "metadata": {},
          "execution_count": 44
        }
      ]
    },
    {
      "cell_type": "markdown",
      "source": [
        "Remover valores não finitos"
      ],
      "metadata": {
        "id": "j09ar7bWHh5D"
      }
    },
    {
      "cell_type": "code",
      "source": [
        "df = df[np.isfinite(df['IDADE'])]"
      ],
      "metadata": {
        "id": "O7uUZLgCLCXX"
      },
      "execution_count": 45,
      "outputs": []
    },
    {
      "cell_type": "markdown",
      "source": [
        "Converter a coluna 'Id' para inteiros"
      ],
      "metadata": {
        "id": "DRWkXa3ULGcK"
      }
    },
    {
      "cell_type": "code",
      "source": [
        "df['IDADE'] = df['IDADE'].astype(int)\n",
        "\n",
        "print(df)"
      ],
      "metadata": {
        "colab": {
          "base_uri": "https://localhost:8080/"
        },
        "id": "bUBp56IMLKKn",
        "outputId": "876739dc-5b84-4226-e588-b083f2c159b3"
      },
      "execution_count": 46,
      "outputs": [
        {
          "output_type": "stream",
          "name": "stdout",
          "text": [
            "         ID  PONTOS ESTADO     GENERO  IDADE  BENS  SALDO NA CONTA  PRODUTO  \\\n",
            "0       1.0   619.0     BA   Feminino     42   2.0             0.0      1.0   \n",
            "1       2.0   608.0     CE   Feminino     41   1.0       8380786.0      1.0   \n",
            "2       3.0   502.0     BA   Feminino     42   8.0       1596608.0      3.0   \n",
            "3       4.0   699.0     BA   Feminino     39   1.0             0.0      2.0   \n",
            "4       5.0   850.0     CE   Feminino     43   2.0      12551082.0      1.0   \n",
            "..      ...     ...    ...        ...    ...   ...             ...      ...   \n",
            "994   996.0   838.0     CE  Masculino     43   9.0      12310588.0      2.0   \n",
            "995   997.0   610.0     CE  Masculino     29   9.0             0.0      3.0   \n",
            "996   998.0   811.0     CE  Masculino     44   3.0             0.0      2.0   \n",
            "997   999.0   587.0     CE  Masculino     62   7.0      12128627.0      1.0   \n",
            "998  1000.0   811.0     CE   Feminino     28   4.0      16773882.0      2.0   \n",
            "\n",
            "     POSSUI CARTAO  ATIVO     SALARIO  SAIU  \n",
            "0              1.0    1.0  10134888.0   1.0  \n",
            "1              0.0    1.0  11254258.0   0.0  \n",
            "2              1.0    0.0  11393157.0   1.0  \n",
            "3              0.0    0.0   9382663.0   0.0  \n",
            "4              1.0    1.0    790841.0   0.0  \n",
            "..             ...    ...         ...   ...  \n",
            "994            1.0    0.0  14576583.0   0.0  \n",
            "995            0.0    1.0   8391224.0   0.0  \n",
            "996            0.0    1.0   7843973.0   0.0  \n",
            "997            0.0    1.0    677692.0   0.0  \n",
            "998            1.0    1.0    990342.0   0.0  \n",
            "\n",
            "[999 rows x 12 columns]\n"
          ]
        },
        {
          "output_type": "stream",
          "name": "stderr",
          "text": [
            "<ipython-input-46-650dcf436f2c>:1: SettingWithCopyWarning: \n",
            "A value is trying to be set on a copy of a slice from a DataFrame.\n",
            "Try using .loc[row_indexer,col_indexer] = value instead\n",
            "\n",
            "See the caveats in the documentation: https://pandas.pydata.org/pandas-docs/stable/user_guide/indexing.html#returning-a-view-versus-a-copy\n",
            "  df['IDADE'] = df['IDADE'].astype(int)\n"
          ]
        }
      ]
    },
    {
      "cell_type": "markdown",
      "source": [
        "Remover valores não finitos e Converter a coluna 'Id' para inteiros\n",
        "\n"
      ],
      "metadata": {
        "id": "dokmDM5z6GhS"
      }
    },
    {
      "cell_type": "code",
      "source": [
        "df = df[np.isfinite(df['ID'])]"
      ],
      "metadata": {
        "id": "kSazl91PLX0F"
      },
      "execution_count": 47,
      "outputs": []
    },
    {
      "cell_type": "markdown",
      "source": [
        "Converter a coluna 'Id' para inteiros"
      ],
      "metadata": {
        "id": "tO7PTi5lLbEt"
      }
    },
    {
      "cell_type": "code",
      "source": [
        "df['ID'] = df['ID'].astype(int)\n",
        "\n",
        "print(df)"
      ],
      "metadata": {
        "colab": {
          "base_uri": "https://localhost:8080/"
        },
        "id": "AR1isekILcpd",
        "outputId": "c10403b7-7ba5-4bc2-cd8a-b28399a00291"
      },
      "execution_count": 48,
      "outputs": [
        {
          "output_type": "stream",
          "name": "stdout",
          "text": [
            "       ID  PONTOS ESTADO     GENERO  IDADE  BENS  SALDO NA CONTA  PRODUTO  \\\n",
            "0       1   619.0     BA   Feminino     42   2.0             0.0      1.0   \n",
            "1       2   608.0     CE   Feminino     41   1.0       8380786.0      1.0   \n",
            "2       3   502.0     BA   Feminino     42   8.0       1596608.0      3.0   \n",
            "3       4   699.0     BA   Feminino     39   1.0             0.0      2.0   \n",
            "4       5   850.0     CE   Feminino     43   2.0      12551082.0      1.0   \n",
            "..    ...     ...    ...        ...    ...   ...             ...      ...   \n",
            "994   996   838.0     CE  Masculino     43   9.0      12310588.0      2.0   \n",
            "995   997   610.0     CE  Masculino     29   9.0             0.0      3.0   \n",
            "996   998   811.0     CE  Masculino     44   3.0             0.0      2.0   \n",
            "997   999   587.0     CE  Masculino     62   7.0      12128627.0      1.0   \n",
            "998  1000   811.0     CE   Feminino     28   4.0      16773882.0      2.0   \n",
            "\n",
            "     POSSUI CARTAO  ATIVO     SALARIO  SAIU  \n",
            "0              1.0    1.0  10134888.0   1.0  \n",
            "1              0.0    1.0  11254258.0   0.0  \n",
            "2              1.0    0.0  11393157.0   1.0  \n",
            "3              0.0    0.0   9382663.0   0.0  \n",
            "4              1.0    1.0    790841.0   0.0  \n",
            "..             ...    ...         ...   ...  \n",
            "994            1.0    0.0  14576583.0   0.0  \n",
            "995            0.0    1.0   8391224.0   0.0  \n",
            "996            0.0    1.0   7843973.0   0.0  \n",
            "997            0.0    1.0    677692.0   0.0  \n",
            "998            1.0    1.0    990342.0   0.0  \n",
            "\n",
            "[999 rows x 12 columns]\n"
          ]
        }
      ]
    },
    {
      "source": [
        "df.groupby('GENERO').size().plot(kind='barh', color=sns.palettes.mpl_palette('Dark2'))\n",
        "plt.gca().spines[['top', 'right',]].set_visible(False)"
      ],
      "cell_type": "code",
      "execution_count": 49,
      "outputs": [
        {
          "output_type": "display_data",
          "data": {
            "text/plain": [
              "<Figure size 640x480 with 1 Axes>"
            ],
            "image/png": "[encoded data removed]"
          },
          "metadata": {}
        }
      ],
      "metadata": {
        "colab": {
          "base_uri": "https://localhost:8080/",
          "height": 434
        },
        "id": "J56yrYALnEwD",
        "outputId": "06a65d2d-6fdb-41d5-f50f-57702be9fc69"
      }
    },
    {
      "cell_type": "markdown",
      "source": [
        "Configurar o estilo do gráfico"
      ],
      "metadata": {
        "id": "8J3iZoLoH3BF"
      }
    },
    {
      "cell_type": "code",
      "source": [
        "sns.set(style=\"whitegrid\")"
      ],
      "metadata": {
        "id": "mhagzYsGIOD1"
      },
      "execution_count": 50,
      "outputs": []
    },
    {
      "cell_type": "markdown",
      "source": [
        "Criar o boxplot"
      ],
      "metadata": {
        "id": "1iMQOL8XIQfY"
      }
    },
    {
      "cell_type": "code",
      "source": [
        "plt.figure(figsize=(10, 6))\n",
        "sns.boxplot(x='GENERO', y='IDADE', data=df)"
      ],
      "metadata": {
        "colab": {
          "base_uri": "https://localhost:8080/",
          "height": 567
        },
        "id": "dcKFqOLUIUVt",
        "outputId": "f33183b6-a981-4e26-c861-a6d981ac6f6d"
      },
      "execution_count": 51,
      "outputs": [
        {
          "output_type": "execute_result",
          "data": {
            "text/plain": [
              "<Axes: xlabel='GENERO', ylabel='IDADE'>"
            ]
          },
          "metadata": {},
          "execution_count": 51
        },
        {
          "output_type": "display_data",
          "data": {
            "text/plain": [
              "<Figure size 1000x600 with 1 Axes>"
            ],
            "image/png": "[encoded data removed]"
          },
          "metadata": {}
        }
      ]
    },
    {
      "cell_type": "markdown",
      "source": [
        "Adicionar título e rótulos"
      ],
      "metadata": {
        "id": "ZBJ_GIeZIeuN"
      }
    },
    {
      "cell_type": "code",
      "source": [
        "plt.title('Distribuição de Idade por Gênero')\n",
        "plt.xlabel('Gênero')\n",
        "plt.ylabel('Idade')"
      ],
      "metadata": {
        "colab": {
          "base_uri": "https://localhost:8080/",
          "height": 498
        },
        "id": "x6vOZBWRIgls",
        "outputId": "68641d29-a773-414c-a396-11518cb17575"
      },
      "execution_count": 52,
      "outputs": [
        {
          "output_type": "execute_result",
          "data": {
            "text/plain": [
              "Text(0, 0.5, 'Idade')"
            ]
          },
          "metadata": {},
          "execution_count": 52
        },
        {
          "output_type": "display_data",
          "data": {
            "text/plain": [
              "<Figure size 640x480 with 1 Axes>"
            ],
            "image/png": "[encoded data removed]"
          },
          "metadata": {}
        }
      ]
    },
    {
      "cell_type": "markdown",
      "source": [
        "Mostrar o gráfico"
      ],
      "metadata": {
        "id": "93PlHj1JIjTl"
      }
    },
    {
      "cell_type": "code",
      "source": [
        "plt.show()"
      ],
      "metadata": {
        "id": "9Ii4agIfIlvv"
      },
      "execution_count": 53,
      "outputs": []
    },
    {
      "cell_type": "markdown",
      "source": [
        "Agrupar dados por gênero e calcular estatísticas de idade"
      ],
      "metadata": {
        "id": "N7BlEg_qIvid"
      }
    },
    {
      "cell_type": "code",
      "source": [
        "grupo_genero = df.groupby('GENERO')['IDADE'].mean().reset_index()"
      ],
      "metadata": {
        "id": "AIKMh18aIxkK"
      },
      "execution_count": 54,
      "outputs": []
    },
    {
      "cell_type": "markdown",
      "source": [
        "Criar o gráfico de barras"
      ],
      "metadata": {
        "id": "W9RWjBnYL3R1"
      }
    },
    {
      "cell_type": "code",
      "source": [
        "plt.figure(figsize=(10, 6))\n",
        "plt.bar(grupo_genero['GENERO'], grupo_genero['IDADE'], color=['blue', 'pink'])"
      ],
      "metadata": {
        "colab": {
          "base_uri": "https://localhost:8080/",
          "height": 544
        },
        "id": "AeR2LNEYL9yS",
        "outputId": "daa3e960-0d96-4cac-88d0-96f3c044c7ef"
      },
      "execution_count": 55,
      "outputs": [
        {
          "output_type": "execute_result",
          "data": {
            "text/plain": [
              "<BarContainer object of 5 artists>"
            ]
          },
          "metadata": {},
          "execution_count": 55
        },
        {
          "output_type": "display_data",
          "data": {
            "text/plain": [
              "<Figure size 1000x600 with 1 Axes>"
            ],
            "image/png": "[encoded data removed]"
          },
          "metadata": {}
        }
      ]
    },
    {
      "cell_type": "markdown",
      "source": [
        "Adicionar título e rótulos"
      ],
      "metadata": {
        "id": "8NAj0ssgMCp0"
      }
    },
    {
      "cell_type": "code",
      "source": [
        "plt.title('Idade Média por Gênero')\n",
        "plt.xlabel('Gênero')\n",
        "plt.ylabel('Idade Média')"
      ],
      "metadata": {
        "colab": {
          "base_uri": "https://localhost:8080/",
          "height": 498
        },
        "id": "Pg5xk6oUMFP1",
        "outputId": "fb8c6dc2-274a-4857-9ce1-0bdbe84c17ff"
      },
      "execution_count": 56,
      "outputs": [
        {
          "output_type": "execute_result",
          "data": {
            "text/plain": [
              "Text(0, 0.5, 'Idade Média')"
            ]
          },
          "metadata": {},
          "execution_count": 56
        },
        {
          "output_type": "display_data",
          "data": {
            "text/plain": [
              "<Figure size 640x480 with 1 Axes>"
            ],
            "image/png": "[encoded data removed]"
          },
          "metadata": {}
        }
      ]
    },
    {
      "cell_type": "markdown",
      "source": [
        "Mostrar o gráfico"
      ],
      "metadata": {
        "id": "9Vy3xNrFMH_U"
      }
    },
    {
      "cell_type": "code",
      "source": [
        "plt.show()"
      ],
      "metadata": {
        "id": "GDZD7TZKMKd9"
      },
      "execution_count": 57,
      "outputs": []
    },
    {
      "cell_type": "markdown",
      "source": [
        "Agora você pode manipular e trabalhar com seu DataFrame 'df'"
      ],
      "metadata": {
        "id": "j1zK-PlHMixO"
      }
    },
    {
      "cell_type": "code",
      "source": [
        "df"
      ],
      "metadata": {
        "colab": {
          "base_uri": "https://localhost:8080/",
          "height": 424
        },
        "id": "buOph-UmMk5F",
        "outputId": "51f800b1-6984-4eae-c0ff-767e0931da09"
      },
      "execution_count": 58,
      "outputs": [
        {
          "output_type": "execute_result",
          "data": {
            "text/plain": [
              "       ID  PONTOS ESTADO     GENERO  IDADE  BENS  SALDO NA CONTA  PRODUTO  \\\n",
              "0       1   619.0     BA   Feminino     42   2.0             0.0      1.0   \n",
              "1       2   608.0     CE   Feminino     41   1.0       8380786.0      1.0   \n",
              "2       3   502.0     BA   Feminino     42   8.0       1596608.0      3.0   \n",
              "3       4   699.0     BA   Feminino     39   1.0             0.0      2.0   \n",
              "4       5   850.0     CE   Feminino     43   2.0      12551082.0      1.0   \n",
              "..    ...     ...    ...        ...    ...   ...             ...      ...   \n",
              "994   996   838.0     CE  Masculino     43   9.0      12310588.0      2.0   \n",
              "995   997   610.0     CE  Masculino     29   9.0             0.0      3.0   \n",
              "996   998   811.0     CE  Masculino     44   3.0             0.0      2.0   \n",
              "997   999   587.0     CE  Masculino     62   7.0      12128627.0      1.0   \n",
              "998  1000   811.0     CE   Feminino     28   4.0      16773882.0      2.0   \n",
              "\n",
              "     POSSUI CARTAO  ATIVO     SALARIO  SAIU  \n",
              "0              1.0    1.0  10134888.0   1.0  \n",
              "1              0.0    1.0  11254258.0   0.0  \n",
              "2              1.0    0.0  11393157.0   1.0  \n",
              "3              0.0    0.0   9382663.0   0.0  \n",
              "4              1.0    1.0    790841.0   0.0  \n",
              "..             ...    ...         ...   ...  \n",
              "994            1.0    0.0  14576583.0   0.0  \n",
              "995            0.0    1.0   8391224.0   0.0  \n",
              "996            0.0    1.0   7843973.0   0.0  \n",
              "997            0.0    1.0    677692.0   0.0  \n",
              "998            1.0    1.0    990342.0   0.0  \n",
              "\n",
              "[999 rows x 12 columns]"
            ],
            "text/html": [
              "\n",
              "  <div id=\"df-7ab38ecf-8a7b-4fb5-bfea-c4033b018536\" class=\"colab-df-container\">\n",
              "    <div>\n",
              "<style scoped>\n",
              "    .dataframe tbody tr th:only-of-type {\n",
              "        vertical-align: middle;\n",
              "    }\n",
              "\n",
              "    .dataframe tbody tr th {\n",
              "        vertical-align: top;\n",
              "    }\n",
              "\n",
              "    .dataframe thead th {\n",
              "        text-align: right;\n",
              "    }\n",
              "</style>\n",
              "<table border=\"1\" class=\"dataframe\">\n",
              "  <thead>\n",
              "    <tr style=\"text-align: right;\">\n",
              "      <th></th>\n",
              "      <th>ID</th>\n",
              "      <th>PONTOS</th>\n",
              "      <th>ESTADO</th>\n",
              "      <th>GENERO</th>\n",
              "      <th>IDADE</th>\n",
              "      <th>BENS</th>\n",
              "      <th>SALDO NA CONTA</th>\n",
              "      <th>PRODUTO</th>\n",
              "      <th>POSSUI CARTAO</th>\n",
              "      <th>ATIVO</th>\n",
              "      <th>SALARIO</th>\n",
              "      <th>SAIU</th>\n",
              "    </tr>\n",
              "  </thead>\n",
              "  <tbody>\n",
              "    <tr>\n",
              "      <th>0</th>\n",
              "      <td>1</td>\n",
              "      <td>619.0</td>\n",
              "      <td>BA</td>\n",
              "      <td>Feminino</td>\n",
              "      <td>42</td>\n",
              "      <td>2.0</td>\n",
              "      <td>0.0</td>\n",
              "      <td>1.0</td>\n",
              "      <td>1.0</td>\n",
              "      <td>1.0</td>\n",
              "      <td>10134888.0</td>\n",
              "      <td>1.0</td>\n",
              "    </tr>\n",
              "    <tr>\n",
              "      <th>1</th>\n",
              "      <td>2</td>\n",
              "      <td>608.0</td>\n",
              "      <td>CE</td>\n",
              "      <td>Feminino</td>\n",
              "      <td>41</td>\n",
              "      <td>1.0</td>\n",
              "      <td>8380786.0</td>\n",
              "      <td>1.0</td>\n",
              "      <td>0.0</td>\n",
              "      <td>1.0</td>\n",
              "      <td>11254258.0</td>\n",
              "      <td>0.0</td>\n",
              "    </tr>\n",
              "    <tr>\n",
              "      <th>2</th>\n",
              "      <td>3</td>\n",
              "      <td>502.0</td>\n",
              "      <td>BA</td>\n",
              "      <td>Feminino</td>\n",
              "      <td>42</td>\n",
              "      <td>8.0</td>\n",
              "      <td>1596608.0</td>\n",
              "      <td>3.0</td>\n",
              "      <td>1.0</td>\n",
              "      <td>0.0</td>\n",
              "      <td>11393157.0</td>\n",
              "      <td>1.0</td>\n",
              "    </tr>\n",
              "    <tr>\n",
              "      <th>3</th>\n",
              "      <td>4</td>\n",
              "      <td>699.0</td>\n",
              "      <td>BA</td>\n",
              "      <td>Feminino</td>\n",
              "      <td>39</td>\n",
              "      <td>1.0</td>\n",
              "      <td>0.0</td>\n",
              "      <td>2.0</td>\n",
              "      <td>0.0</td>\n",
              "      <td>0.0</td>\n",
              "      <td>9382663.0</td>\n",
              "      <td>0.0</td>\n",
              "    </tr>\n",
              "    <tr>\n",
              "      <th>4</th>\n",
              "      <td>5</td>\n",
              "      <td>850.0</td>\n",
              "      <td>CE</td>\n",
              "      <td>Feminino</td>\n",
              "      <td>43</td>\n",
              "      <td>2.0</td>\n",
              "      <td>12551082.0</td>\n",
              "      <td>1.0</td>\n",
              "      <td>1.0</td>\n",
              "      <td>1.0</td>\n",
              "      <td>790841.0</td>\n",
              "      <td>0.0</td>\n",
              "    </tr>\n",
              "    <tr>\n",
              "      <th>...</th>\n",
              "      <td>...</td>\n",
              "      <td>...</td>\n",
              "      <td>...</td>\n",
              "      <td>...</td>\n",
              "      <td>...</td>\n",
              "      <td>...</td>\n",
              "      <td>...</td>\n",
              "      <td>...</td>\n",
              "      <td>...</td>\n",
              "      <td>...</td>\n",
              "      <td>...</td>\n",
              "      <td>...</td>\n",
              "    </tr>\n",
              "    <tr>\n",
              "      <th>994</th>\n",
              "      <td>996</td>\n",
              "      <td>838.0</td>\n",
              "      <td>CE</td>\n",
              "      <td>Masculino</td>\n",
              "      <td>43</td>\n",
              "      <td>9.0</td>\n",
              "      <td>12310588.0</td>\n",
              "      <td>2.0</td>\n",
              "      <td>1.0</td>\n",
              "      <td>0.0</td>\n",
              "      <td>14576583.0</td>\n",
              "      <td>0.0</td>\n",
              "    </tr>\n",
              "    <tr>\n",
              "      <th>995</th>\n",
              "      <td>997</td>\n",
              "      <td>610.0</td>\n",
              "      <td>CE</td>\n",
              "      <td>Masculino</td>\n",
              "      <td>29</td>\n",
              "      <td>9.0</td>\n",
              "      <td>0.0</td>\n",
              "      <td>3.0</td>\n",
              "      <td>0.0</td>\n",
              "      <td>1.0</td>\n",
              "      <td>8391224.0</td>\n",
              "      <td>0.0</td>\n",
              "    </tr>\n",
              "    <tr>\n",
              "      <th>996</th>\n",
              "      <td>998</td>\n",
              "      <td>811.0</td>\n",
              "      <td>CE</td>\n",
              "      <td>Masculino</td>\n",
              "      <td>44</td>\n",
              "      <td>3.0</td>\n",
              "      <td>0.0</td>\n",
              "      <td>2.0</td>\n",
              "      <td>0.0</td>\n",
              "      <td>1.0</td>\n",
              "      <td>7843973.0</td>\n",
              "      <td>0.0</td>\n",
              "    </tr>\n",
              "    <tr>\n",
              "      <th>997</th>\n",
              "      <td>999</td>\n",
              "      <td>587.0</td>\n",
              "      <td>CE</td>\n",
              "      <td>Masculino</td>\n",
              "      <td>62</td>\n",
              "      <td>7.0</td>\n",
              "      <td>12128627.0</td>\n",
              "      <td>1.0</td>\n",
              "      <td>0.0</td>\n",
              "      <td>1.0</td>\n",
              "      <td>677692.0</td>\n",
              "      <td>0.0</td>\n",
              "    </tr>\n",
              "    <tr>\n",
              "      <th>998</th>\n",
              "      <td>1000</td>\n",
              "      <td>811.0</td>\n",
              "      <td>CE</td>\n",
              "      <td>Feminino</td>\n",
              "      <td>28</td>\n",
              "      <td>4.0</td>\n",
              "      <td>16773882.0</td>\n",
              "      <td>2.0</td>\n",
              "      <td>1.0</td>\n",
              "      <td>1.0</td>\n",
              "      <td>990342.0</td>\n",
              "      <td>0.0</td>\n",
              "    </tr>\n",
              "  </tbody>\n",
              "</table>\n",
              "<p>999 rows × 12 columns</p>\n",
              "</div>\n",
              "    <div class=\"colab-df-buttons\">\n",
              "\n",
              "  <div class=\"colab-df-container\">\n",
              "    <button class=\"colab-df-convert\" onclick=\"convertToInteractive('df-7ab38ecf-8a7b-4fb5-bfea-c4033b018536')\"\n",
              "            title=\"Convert this dataframe to an interactive table.\"\n",
              "            style=\"display:none;\">\n",
              "\n",
              "  <svg xmlns=\"http://www.w3.org/2000/svg\" height=\"24px\" viewBox=\"0 -960 960 960\">\n",
              "    <path d=\"M120-120v-720h720v720H120Zm60-500h600v-160H180v160Zm220 220h160v-160H400v160Zm0 220h160v-160H400v160ZM180-400h160v-160H180v160Zm440 0h160v-160H620v160ZM180-180h160v-160H180v160Zm440 0h160v-160H620v160Z\"/>\n",
              "  </svg>\n",
              "    </button>\n",
              "\n",
              "  <style>\n",
              "    .colab-df-container {\n",
              "      display:flex;\n",
              "      gap: 12px;\n",
              "    }\n",
              "\n",
              "    .colab-df-convert {\n",
              "      background-color: #E8F0FE;\n",
              "      border: none;\n",
              "      border-radius: 50%;\n",
              "      cursor: pointer;\n",
              "      display: none;\n",
              "      fill: #1967D2;\n",
              "      height: 32px;\n",
              "      padding: 0 0 0 0;\n",
              "      width: 32px;\n",
              "    }\n",
              "\n",
              "    .colab-df-convert:hover {\n",
              "      background-color: #E2EBFA;\n",
              "      box-shadow: 0px 1px 2px rgba(60, 64, 67, 0.3), 0px 1px 3px 1px rgba(60, 64, 67, 0.15);\n",
              "      fill: #174EA6;\n",
              "    }\n",
              "\n",
              "    .colab-df-buttons div {\n",
              "      margin-bottom: 4px;\n",
              "    }\n",
              "\n",
              "    [theme=dark] .colab-df-convert {\n",
              "      background-color: #3B4455;\n",
              "      fill: #D2E3FC;\n",
              "    }\n",
              "\n",
              "    [theme=dark] .colab-df-convert:hover {\n",
              "      background-color: #434B5C;\n",
              "      box-shadow: 0px 1px 3px 1px rgba(0, 0, 0, 0.15);\n",
              "      filter: drop-shadow(0px 1px 2px rgba(0, 0, 0, 0.3));\n",
              "      fill: #FFFFFF;\n",
              "    }\n",
              "  </style>\n",
              "\n",
              "    <script>\n",
              "      const buttonEl =\n",
              "        document.querySelector('#df-7ab38ecf-8a7b-4fb5-bfea-c4033b018536 button.colab-df-convert');\n",
              "      buttonEl.style.display =\n",
              "        google.colab.kernel.accessAllowed ? 'block' : 'none';\n",
              "\n",
              "      async function convertToInteractive(key) {\n",
              "        const element = document.querySelector('#df-7ab38ecf-8a7b-4fb5-bfea-c4033b018536');\n",
              "        const dataTable =\n",
              "          await google.colab.kernel.invokeFunction('convertToInteractive',\n",
              "                                                    [key], {});\n",
              "        if (!dataTable) return;\n",
              "\n",
              "        const docLinkHtml = 'Like what you see? Visit the ' +\n",
              "          '<a target=\"_blank\" href=https://colab.research.google.com/notebooks/data_table.ipynb>data table notebook</a>'\n",
              "          + ' to learn more about interactive tables.';\n",
              "        element.innerHTML = '';\n",
              "        dataTable['output_type'] = 'display_data';\n",
              "        await google.colab.output.renderOutput(dataTable, element);\n",
              "        const docLink = document.createElement('div');\n",
              "        docLink.innerHTML = docLinkHtml;\n",
              "        element.appendChild(docLink);\n",
              "      }\n",
              "    </script>\n",
              "  </div>\n",
              "\n",
              "\n",
              "<div id=\"df-392b33f4-79e5-4976-b984-cb1733d6d3f1\">\n",
              "  <button class=\"colab-df-quickchart\" onclick=\"quickchart('df-392b33f4-79e5-4976-b984-cb1733d6d3f1')\"\n",
              "            title=\"Suggest charts\"\n",
              "            style=\"display:none;\">\n",
              "\n",
              "<svg xmlns=\"http://www.w3.org/2000/svg\" height=\"24px\"viewBox=\"0 0 24 24\"\n",
              "     width=\"24px\">\n",
              "    <g>\n",
              "        <path d=\"M19 3H5c-1.1 0-2 .9-2 2v14c0 1.1.9 2 2 2h14c1.1 0 2-.9 2-2V5c0-1.1-.9-2-2-2zM9 17H7v-7h2v7zm4 0h-2V7h2v10zm4 0h-2v-4h2v4z\"/>\n",
              "    </g>\n",
              "</svg>\n",
              "  </button>\n",
              "\n",
              "<style>\n",
              "  .colab-df-quickchart {\n",
              "      --bg-color: #E8F0FE;\n",
              "      --fill-color: #1967D2;\n",
              "      --hover-bg-color: #E2EBFA;\n",
              "      --hover-fill-color: #174EA6;\n",
              "      --disabled-fill-color: #AAA;\n",
              "      --disabled-bg-color: #DDD;\n",
              "  }\n",
              "\n",
              "  [theme=dark] .colab-df-quickchart {\n",
              "      --bg-color: #3B4455;\n",
              "      --fill-color: #D2E3FC;\n",
              "      --hover-bg-color: #434B5C;\n",
              "      --hover-fill-color: #FFFFFF;\n",
              "      --disabled-bg-color: #3B4455;\n",
              "      --disabled-fill-color: #666;\n",
              "  }\n",
              "\n",
              "  .colab-df-quickchart {\n",
              "    background-color: var(--bg-color);\n",
              "    border: none;\n",
              "    border-radius: 50%;\n",
              "    cursor: pointer;\n",
              "    display: none;\n",
              "    fill: var(--fill-color);\n",
              "    height: 32px;\n",
              "    padding: 0;\n",
              "    width: 32px;\n",
              "  }\n",
              "\n",
              "  .colab-df-quickchart:hover {\n",
              "    background-color: var(--hover-bg-color);\n",
              "    box-shadow: 0 1px 2px rgba(60, 64, 67, 0.3), 0 1px 3px 1px rgba(60, 64, 67, 0.15);\n",
              "    fill: var(--button-hover-fill-color);\n",
              "  }\n",
              "\n",
              "  .colab-df-quickchart-complete:disabled,\n",
              "  .colab-df-quickchart-complete:disabled:hover {\n",
              "    background-color: var(--disabled-bg-color);\n",
              "    fill: var(--disabled-fill-color);\n",
              "    box-shadow: none;\n",
              "  }\n",
              "\n",
              "  .colab-df-spinner {\n",
              "    border: 2px solid var(--fill-color);\n",
              "    border-color: transparent;\n",
              "    border-bottom-color: var(--fill-color);\n",
              "    animation:\n",
              "      spin 1s steps(1) infinite;\n",
              "  }\n",
              "\n",
              "  @keyframes spin {\n",
              "    0% {\n",
              "      border-color: transparent;\n",
              "      border-bottom-color: var(--fill-color);\n",
              "      border-left-color: var(--fill-color);\n",
              "    }\n",
              "    20% {\n",
              "      border-color: transparent;\n",
              "      border-left-color: var(--fill-color);\n",
              "      border-top-color: var(--fill-color);\n",
              "    }\n",
              "    30% {\n",
              "      border-color: transparent;\n",
              "      border-left-color: var(--fill-color);\n",
              "      border-top-color: var(--fill-color);\n",
              "      border-right-color: var(--fill-color);\n",
              "    }\n",
              "    40% {\n",
              "      border-color: transparent;\n",
              "      border-right-color: var(--fill-color);\n",
              "      border-top-color: var(--fill-color);\n",
              "    }\n",
              "    60% {\n",
              "      border-color: transparent;\n",
              "      border-right-color: var(--fill-color);\n",
              "    }\n",
              "    80% {\n",
              "      border-color: transparent;\n",
              "      border-right-color: var(--fill-color);\n",
              "      border-bottom-color: var(--fill-color);\n",
              "    }\n",
              "    90% {\n",
              "      border-color: transparent;\n",
              "      border-bottom-color: var(--fill-color);\n",
              "    }\n",
              "  }\n",
              "</style>\n",
              "\n",
              "  <script>\n",
              "    async function quickchart(key) {\n",
              "      const quickchartButtonEl =\n",
              "        document.querySelector('#' + key + ' button');\n",
              "      quickchartButtonEl.disabled = true;  // To prevent multiple clicks.\n",
              "      quickchartButtonEl.classList.add('colab-df-spinner');\n",
              "      try {\n",
              "        const charts = await google.colab.kernel.invokeFunction(\n",
              "            'suggestCharts', [key], {});\n",
              "      } catch (error) {\n",
              "        console.error('Error during call to suggestCharts:', error);\n",
              "      }\n",
              "      quickchartButtonEl.classList.remove('colab-df-spinner');\n",
              "      quickchartButtonEl.classList.add('colab-df-quickchart-complete');\n",
              "    }\n",
              "    (() => {\n",
              "      let quickchartButtonEl =\n",
              "        document.querySelector('#df-392b33f4-79e5-4976-b984-cb1733d6d3f1 button');\n",
              "      quickchartButtonEl.style.display =\n",
              "        google.colab.kernel.accessAllowed ? 'block' : 'none';\n",
              "    })();\n",
              "  </script>\n",
              "</div>\n",
              "\n",
              "  <div id=\"id_cf96fd0c-1e35-49ba-b843-5f47d10e971e\">\n",
              "    <style>\n",
              "      .colab-df-generate {\n",
              "        background-color: #E8F0FE;\n",
              "        border: none;\n",
              "        border-radius: 50%;\n",
              "        cursor: pointer;\n",
              "        display: none;\n",
              "        fill: #1967D2;\n",
              "        height: 32px;\n",
              "        padding: 0 0 0 0;\n",
              "        width: 32px;\n",
              "      }\n",
              "\n",
              "      .colab-df-generate:hover {\n",
              "        background-color: #E2EBFA;\n",
              "        box-shadow: 0px 1px 2px rgba(60, 64, 67, 0.3), 0px 1px 3px 1px rgba(60, 64, 67, 0.15);\n",
              "        fill: #174EA6;\n",
              "      }\n",
              "\n",
              "      [theme=dark] .colab-df-generate {\n",
              "        background-color: #3B4455;\n",
              "        fill: #D2E3FC;\n",
              "      }\n",
              "\n",
              "      [theme=dark] .colab-df-generate:hover {\n",
              "        background-color: #434B5C;\n",
              "        box-shadow: 0px 1px 3px 1px rgba(0, 0, 0, 0.15);\n",
              "        filter: drop-shadow(0px 1px 2px rgba(0, 0, 0, 0.3));\n",
              "        fill: #FFFFFF;\n",
              "      }\n",
              "    </style>\n",
              "    <button class=\"colab-df-generate\" onclick=\"generateWithVariable('df')\"\n",
              "            title=\"Generate code using this dataframe.\"\n",
              "            style=\"display:none;\">\n",
              "\n",
              "  <svg xmlns=\"http://www.w3.org/2000/svg\" height=\"24px\"viewBox=\"0 0 24 24\"\n",
              "       width=\"24px\">\n",
              "    <path d=\"M7,19H8.4L18.45,9,17,7.55,7,17.6ZM5,21V16.75L18.45,3.32a2,2,0,0,1,2.83,0l1.4,1.43a1.91,1.91,0,0,1,.58,1.4,1.91,1.91,0,0,1-.58,1.4L9.25,21ZM18.45,9,17,7.55Zm-12,3A5.31,5.31,0,0,0,4.9,8.1,5.31,5.31,0,0,0,1,6.5,5.31,5.31,0,0,0,4.9,4.9,5.31,5.31,0,0,0,6.5,1,5.31,5.31,0,0,0,8.1,4.9,5.31,5.31,0,0,0,12,6.5,5.46,5.46,0,0,0,6.5,12Z\"/>\n",
              "  </svg>\n",
              "    </button>\n",
              "    <script>\n",
              "      (() => {\n",
              "      const buttonEl =\n",
              "        document.querySelector('#id_cf96fd0c-1e35-49ba-b843-5f47d10e971e button.colab-df-generate');\n",
              "      buttonEl.style.display =\n",
              "        google.colab.kernel.accessAllowed ? 'block' : 'none';\n",
              "\n",
              "      buttonEl.onclick = () => {\n",
              "        google.colab.notebook.generateWithVariable('df');\n",
              "      }\n",
              "      })();\n",
              "    </script>\n",
              "  </div>\n",
              "\n",
              "    </div>\n",
              "  </div>\n"
            ],
            "application/vnd.google.colaboratory.intrinsic+json": {
              "type": "dataframe",
              "variable_name": "df",
              "summary": "{\n  \"name\": \"df\",\n  \"rows\": 999,\n  \"fields\": [\n    {\n      \"column\": \"ID\",\n      \"properties\": {\n        \"dtype\": \"number\",\n        \"std\": 288,\n        \"min\": 1,\n        \"max\": 1000,\n        \"num_unique_values\": 998,\n        \"samples\": [\n          456,\n          795,\n          212\n        ],\n        \"semantic_type\": \"\",\n        \"description\": \"\"\n      }\n    },\n    {\n      \"column\": \"PONTOS\",\n      \"properties\": {\n        \"dtype\": \"number\",\n        \"std\": 98.26421874897119,\n        \"min\": 376.0,\n        \"max\": 850.0,\n        \"num_unique_values\": 354,\n        \"samples\": [\n          840.0,\n          660.0,\n          417.0\n        ],\n        \"semantic_type\": \"\",\n        \"description\": \"\"\n      }\n    },\n    {\n      \"column\": \"ESTADO\",\n      \"properties\": {\n        \"dtype\": \"category\",\n        \"num_unique_values\": 6,\n        \"samples\": [\n          \"BA\",\n          \"CE\",\n          \"RJ\"\n        ],\n        \"semantic_type\": \"\",\n        \"description\": \"\"\n      }\n    },\n    {\n      \"column\": \"GENERO\",\n      \"properties\": {\n        \"dtype\": \"category\",\n        \"num_unique_values\": 5,\n        \"samples\": [\n          \"Masculino\",\n          \"Fem\",\n          \"M\"\n        ],\n        \"semantic_type\": \"\",\n        \"description\": \"\"\n      }\n    },\n    {\n      \"column\": \"IDADE\",\n      \"properties\": {\n        \"dtype\": \"number\",\n        \"std\": 11,\n        \"min\": -20,\n        \"max\": 140,\n        \"num_unique_values\": 64,\n        \"samples\": [\n          60,\n          69,\n          42\n        ],\n        \"semantic_type\": \"\",\n        \"description\": \"\"\n      }\n    },\n    {\n      \"column\": \"BENS\",\n      \"properties\": {\n        \"dtype\": \"number\",\n        \"std\": 2.927691409320773,\n        \"min\": 0.0,\n        \"max\": 10.0,\n        \"num_unique_values\": 11,\n        \"samples\": [\n          6.0,\n          2.0,\n          9.0\n        ],\n        \"semantic_type\": \"\",\n        \"description\": \"\"\n      }\n    },\n    {\n      \"column\": \"SALDO NA CONTA\",\n      \"properties\": {\n        \"dtype\": \"number\",\n        \"std\": 6311840.125836206,\n        \"min\": 0.0,\n        \"max\": 21177431.0,\n        \"num_unique_values\": 649,\n        \"samples\": [\n          12453278.0,\n          18784199.0,\n          13380229.0\n        ],\n        \"semantic_type\": \"\",\n        \"description\": \"\"\n      }\n    },\n    {\n      \"column\": \"PRODUTO\",\n      \"properties\": {\n        \"dtype\": \"number\",\n        \"std\": 0.5742007140077248,\n        \"min\": 1.0,\n        \"max\": 4.0,\n        \"num_unique_values\": 4,\n        \"samples\": [\n          3.0,\n          4.0,\n          1.0\n        ],\n        \"semantic_type\": \"\",\n        \"description\": \"\"\n      }\n    },\n    {\n      \"column\": \"POSSUI CARTAO\",\n      \"properties\": {\n        \"dtype\": \"number\",\n        \"std\": 0.457297435584201,\n        \"min\": 0.0,\n        \"max\": 1.0,\n        \"num_unique_values\": 2,\n        \"samples\": [\n          0.0,\n          1.0\n        ],\n        \"semantic_type\": \"\",\n        \"description\": \"\"\n      }\n    },\n    {\n      \"column\": \"ATIVO\",\n      \"properties\": {\n        \"dtype\": \"number\",\n        \"std\": 0.5001599540336046,\n        \"min\": 0.0,\n        \"max\": 1.0,\n        \"num_unique_values\": 2,\n        \"samples\": [\n          0.0,\n          1.0\n        ],\n        \"semantic_type\": \"\",\n        \"description\": \"\"\n      }\n    },\n    {\n      \"column\": \"SALARIO\",\n      \"properties\": {\n        \"dtype\": \"number\",\n        \"std\": 530579988.3011111,\n        \"min\": 9677.0,\n        \"max\": 11934688000.0,\n        \"num_unique_values\": 987,\n        \"samples\": [\n          12054083.0,\n          19331833.0\n        ],\n        \"semantic_type\": \"\",\n        \"description\": \"\"\n      }\n    },\n    {\n      \"column\": \"SAIU\",\n      \"properties\": {\n        \"dtype\": \"number\",\n        \"std\": 0.40258402544666305,\n        \"min\": 0.0,\n        \"max\": 1.0,\n        \"num_unique_values\": 2,\n        \"samples\": [\n          0.0,\n          1.0\n        ],\n        \"semantic_type\": \"\",\n        \"description\": \"\"\n      }\n    }\n  ]\n}"
            }
          },
          "metadata": {},
          "execution_count": 58
        }
      ]
    },
    {
      "source": [
        "df.plot(kind='scatter', x='PONTOS', y='IDADE', s=32, alpha=.8)\n",
        "plt.gca().spines[['top', 'right',]].set_visible(False)"
      ],
      "cell_type": "code",
      "execution_count": 61,
      "outputs": [
        {
          "output_type": "display_data",
          "data": {
            "text/plain": [
              "<Figure size 640x480 with 1 Axes>"
            ],
            "image/png": "[encoded data removed]"
          },
          "metadata": {}
        }
      ],
      "metadata": {
        "colab": {
          "base_uri": "https://localhost:8080/",
          "height": 458
        },
        "id": "eymH00sNOHyp",
        "outputId": "fab9a165-b323-4d59-8267-68d9ac5a160e"
      }
    },
    {
      "cell_type": "markdown",
      "source": [
        "## Pontos vs Idade"
      ],
      "metadata": {
        "id": "cB1gaESyM4jG"
      }
    },
    {
      "cell_type": "code",
      "source": [
        "print(df.head())"
      ],
      "metadata": {
        "colab": {
          "base_uri": "https://localhost:8080/"
        },
        "id": "KGJCMgRfwruO",
        "outputId": "cd82869e-f0de-4570-d672-dc3d09f2e5a7"
      },
      "execution_count": 64,
      "outputs": [
        {
          "output_type": "stream",
          "name": "stdout",
          "text": [
            "   ID  PONTOS ESTADO    GENERO  IDADE  BENS  SALDO NA CONTA  PRODUTO  \\\n",
            "0   1   619.0     BA  Feminino     42   2.0             0.0      1.0   \n",
            "1   2   608.0     CE  Feminino     41   1.0       8380786.0      1.0   \n",
            "2   3   502.0     BA  Feminino     42   8.0       1596608.0      3.0   \n",
            "3   4   699.0     BA  Feminino     39   1.0             0.0      2.0   \n",
            "4   5   850.0     CE  Feminino     43   2.0      12551082.0      1.0   \n",
            "\n",
            "   POSSUI CARTAO  ATIVO     SALARIO  SAIU  \n",
            "0            1.0    1.0  10134888.0   1.0  \n",
            "1            0.0    1.0  11254258.0   0.0  \n",
            "2            1.0    0.0  11393157.0   1.0  \n",
            "3            0.0    0.0   9382663.0   0.0  \n",
            "4            1.0    1.0    790841.0   0.0  \n"
          ]
        }
      ]
    },
    {
      "cell_type": "code",
      "source": [
        "print(df.info())"
      ],
      "metadata": {
        "colab": {
          "base_uri": "https://localhost:8080/"
        },
        "id": "0ViE5Mowwrg_",
        "outputId": "1e7bfa4a-f2d3-461a-b14b-d70555ff3483"
      },
      "execution_count": 65,
      "outputs": [
        {
          "output_type": "stream",
          "name": "stdout",
          "text": [
            "<class 'pandas.core.frame.DataFrame'>\n",
            "Index: 999 entries, 0 to 998\n",
            "Data columns (total 12 columns):\n",
            " #   Column          Non-Null Count  Dtype  \n",
            "---  ------          --------------  -----  \n",
            " 0   ID              999 non-null    int64  \n",
            " 1   PONTOS          999 non-null    float64\n",
            " 2   ESTADO          999 non-null    object \n",
            " 3   GENERO          991 non-null    object \n",
            " 4   IDADE           999 non-null    int64  \n",
            " 5   BENS            999 non-null    float64\n",
            " 6   SALDO NA CONTA  999 non-null    float64\n",
            " 7   PRODUTO         999 non-null    float64\n",
            " 8   POSSUI CARTAO   999 non-null    float64\n",
            " 9   ATIVO           999 non-null    float64\n",
            " 10  SALARIO         992 non-null    float64\n",
            " 11  SAIU            999 non-null    float64\n",
            "dtypes: float64(8), int64(2), object(2)\n",
            "memory usage: 133.8+ KB\n",
            "None\n"
          ]
        }
      ]
    },
    {
      "cell_type": "code",
      "source": [
        "print(df.describe())"
      ],
      "metadata": {
        "colab": {
          "base_uri": "https://localhost:8080/"
        },
        "id": "dJtRbPb2w6EG",
        "outputId": "10e952a2-1581-412f-8677-f78f7bfdd48f"
      },
      "execution_count": 66,
      "outputs": [
        {
          "output_type": "stream",
          "name": "stdout",
          "text": [
            "                ID      PONTOS       IDADE        BENS  SALDO NA CONTA  \\\n",
            "count   999.000000  999.000000  999.000000  999.000000    9.990000e+02   \n",
            "mean    500.916917  648.621622   38.902903    5.069069    7.164928e+06   \n",
            "std     288.662884   98.264219   11.401912    2.927691    6.311840e+06   \n",
            "min       1.000000  376.000000  -20.000000    0.000000    0.000000e+00   \n",
            "25%     251.500000  580.000000   32.000000    2.000000    0.000000e+00   \n",
            "50%     501.000000  653.000000   37.000000    5.000000    8.958835e+06   \n",
            "75%     750.500000  721.000000   44.000000    8.000000    1.258684e+07   \n",
            "max    1000.000000  850.000000  140.000000   10.000000    2.117743e+07   \n",
            "\n",
            "          PRODUTO  POSSUI CARTAO      ATIVO       SALARIO        SAIU  \n",
            "count  999.000000     999.000000  999.00000  9.920000e+02  999.000000  \n",
            "mean     1.526527       0.702703    0.50951  3.528762e+07    0.203203  \n",
            "std      0.574201       0.457297    0.50016  5.305800e+08    0.402584  \n",
            "min      1.000000       0.000000    0.00000  9.677000e+03    0.000000  \n",
            "25%      1.000000       0.000000    0.00000  3.029011e+06    0.000000  \n",
            "50%      1.000000       1.000000    1.00000  8.703250e+06    0.000000  \n",
            "75%      2.000000       1.000000    1.00000  1.405213e+07    0.000000  \n",
            "max      4.000000       1.000000    1.00000  1.193469e+10    1.000000  \n"
          ]
        }
      ]
    },
    {
      "cell_type": "code",
      "source": [
        "type(df)"
      ],
      "metadata": {
        "colab": {
          "base_uri": "https://localhost:8080/",
          "height": 204
        },
        "id": "E90ozySLx9TO",
        "outputId": "02ec5393-49a7-4a67-a98f-950eb11609a1"
      },
      "execution_count": 67,
      "outputs": [
        {
          "output_type": "execute_result",
          "data": {
            "text/plain": [
              "pandas.core.frame.DataFrame"
            ],
            "text/html": [
              "<div style=\"max-width:800px; border: 1px solid var(--colab-border-color);\"><style>\n",
              "      pre.function-repr-contents {\n",
              "        overflow-x: auto;\n",
              "        padding: 8px 12px;\n",
              "        max-height: 500px;\n",
              "      }\n",
              "\n",
              "      pre.function-repr-contents.function-repr-contents-collapsed {\n",
              "        cursor: pointer;\n",
              "        max-height: 100px;\n",
              "      }\n",
              "    </style>\n",
              "    <pre style=\"white-space: initial; background:\n",
              "         var(--colab-secondary-surface-color); padding: 8px 12px;\n",
              "         border-bottom: 1px solid var(--colab-border-color);\"><b>pandas.core.frame.DataFrame</b><br/>def __init__(data=None, index: Axes | None=None, columns: Axes | None=None, dtype: Dtype | None=None, copy: bool | None=None) -&gt; None</pre><pre class=\"function-repr-contents function-repr-contents-collapsed\" style=\"\"><a class=\"filepath\" style=\"display:none\" href=\"#\">/usr/local/lib/python3.10/dist-packages/pandas/core/frame.py</a>Two-dimensional, size-mutable, potentially heterogeneous tabular data.\n",
              "\n",
              "Data structure also contains labeled axes (rows and columns).\n",
              "Arithmetic operations align on both row and column labels. Can be\n",
              "thought of as a dict-like container for Series objects. The primary\n",
              "pandas data structure.\n",
              "\n",
              "Parameters\n",
              "----------\n",
              "data : ndarray (structured or homogeneous), Iterable, dict, or DataFrame\n",
              "    Dict can contain Series, arrays, constants, dataclass or list-like objects. If\n",
              "    data is a dict, column order follows insertion-order. If a dict contains Series\n",
              "    which have an index defined, it is aligned by its index. This alignment also\n",
              "    occurs if data is a Series or a DataFrame itself. Alignment is done on\n",
              "    Series/DataFrame inputs.\n",
              "\n",
              "    If data is a list of dicts, column order follows insertion-order.\n",
              "\n",
              "index : Index or array-like\n",
              "    Index to use for resulting frame. Will default to RangeIndex if\n",
              "    no indexing information part of input data and no index provided.\n",
              "columns : Index or array-like\n",
              "    Column labels to use for resulting frame when data does not have them,\n",
              "    defaulting to RangeIndex(0, 1, 2, ..., n). If data contains column labels,\n",
              "    will perform column selection instead.\n",
              "dtype : dtype, default None\n",
              "    Data type to force. Only a single dtype is allowed. If None, infer.\n",
              "copy : bool or None, default None\n",
              "    Copy data from inputs.\n",
              "    For dict data, the default of None behaves like ``copy=True``.  For DataFrame\n",
              "    or 2d ndarray input, the default of None behaves like ``copy=False``.\n",
              "    If data is a dict containing one or more Series (possibly of different dtypes),\n",
              "    ``copy=False`` will ensure that these inputs are not copied.\n",
              "\n",
              "    .. versionchanged:: 1.3.0\n",
              "\n",
              "See Also\n",
              "--------\n",
              "DataFrame.from_records : Constructor from tuples, also record arrays.\n",
              "DataFrame.from_dict : From dicts of Series, arrays, or dicts.\n",
              "read_csv : Read a comma-separated values (csv) file into DataFrame.\n",
              "read_table : Read general delimited file into DataFrame.\n",
              "read_clipboard : Read text from clipboard into DataFrame.\n",
              "\n",
              "Notes\n",
              "-----\n",
              "Please reference the :ref:`User Guide &lt;basics.dataframe&gt;` for more information.\n",
              "\n",
              "Examples\n",
              "--------\n",
              "Constructing DataFrame from a dictionary.\n",
              "\n",
              "&gt;&gt;&gt; d = {&#x27;col1&#x27;: [1, 2], &#x27;col2&#x27;: [3, 4]}\n",
              "&gt;&gt;&gt; df = pd.DataFrame(data=d)\n",
              "&gt;&gt;&gt; df\n",
              "   col1  col2\n",
              "0     1     3\n",
              "1     2     4\n",
              "\n",
              "Notice that the inferred dtype is int64.\n",
              "\n",
              "&gt;&gt;&gt; df.dtypes\n",
              "col1    int64\n",
              "col2    int64\n",
              "dtype: object\n",
              "\n",
              "To enforce a single dtype:\n",
              "\n",
              "&gt;&gt;&gt; df = pd.DataFrame(data=d, dtype=np.int8)\n",
              "&gt;&gt;&gt; df.dtypes\n",
              "col1    int8\n",
              "col2    int8\n",
              "dtype: object\n",
              "\n",
              "Constructing DataFrame from a dictionary including Series:\n",
              "\n",
              "&gt;&gt;&gt; d = {&#x27;col1&#x27;: [0, 1, 2, 3], &#x27;col2&#x27;: pd.Series([2, 3], index=[2, 3])}\n",
              "&gt;&gt;&gt; pd.DataFrame(data=d, index=[0, 1, 2, 3])\n",
              "   col1  col2\n",
              "0     0   NaN\n",
              "1     1   NaN\n",
              "2     2   2.0\n",
              "3     3   3.0\n",
              "\n",
              "Constructing DataFrame from numpy ndarray:\n",
              "\n",
              "&gt;&gt;&gt; df2 = pd.DataFrame(np.array([[1, 2, 3], [4, 5, 6], [7, 8, 9]]),\n",
              "...                    columns=[&#x27;a&#x27;, &#x27;b&#x27;, &#x27;c&#x27;])\n",
              "&gt;&gt;&gt; df2\n",
              "   a  b  c\n",
              "0  1  2  3\n",
              "1  4  5  6\n",
              "2  7  8  9\n",
              "\n",
              "Constructing DataFrame from a numpy ndarray that has labeled columns:\n",
              "\n",
              "&gt;&gt;&gt; data = np.array([(1, 2, 3), (4, 5, 6), (7, 8, 9)],\n",
              "...                 dtype=[(&quot;a&quot;, &quot;i4&quot;), (&quot;b&quot;, &quot;i4&quot;), (&quot;c&quot;, &quot;i4&quot;)])\n",
              "&gt;&gt;&gt; df3 = pd.DataFrame(data, columns=[&#x27;c&#x27;, &#x27;a&#x27;])\n",
              "...\n",
              "&gt;&gt;&gt; df3\n",
              "   c  a\n",
              "0  3  1\n",
              "1  6  4\n",
              "2  9  7\n",
              "\n",
              "Constructing DataFrame from dataclass:\n",
              "\n",
              "&gt;&gt;&gt; from dataclasses import make_dataclass\n",
              "&gt;&gt;&gt; Point = make_dataclass(&quot;Point&quot;, [(&quot;x&quot;, int), (&quot;y&quot;, int)])\n",
              "&gt;&gt;&gt; pd.DataFrame([Point(0, 0), Point(0, 3), Point(2, 3)])\n",
              "   x  y\n",
              "0  0  0\n",
              "1  0  3\n",
              "2  2  3\n",
              "\n",
              "Constructing DataFrame from Series/DataFrame:\n",
              "\n",
              "&gt;&gt;&gt; ser = pd.Series([1, 2, 3], index=[&quot;a&quot;, &quot;b&quot;, &quot;c&quot;])\n",
              "&gt;&gt;&gt; df = pd.DataFrame(data=ser, index=[&quot;a&quot;, &quot;c&quot;])\n",
              "&gt;&gt;&gt; df\n",
              "   0\n",
              "a  1\n",
              "c  3\n",
              "\n",
              "&gt;&gt;&gt; df1 = pd.DataFrame([1, 2, 3], index=[&quot;a&quot;, &quot;b&quot;, &quot;c&quot;], columns=[&quot;x&quot;])\n",
              "&gt;&gt;&gt; df2 = pd.DataFrame(data=df1, index=[&quot;a&quot;, &quot;c&quot;])\n",
              "&gt;&gt;&gt; df2\n",
              "   x\n",
              "a  1\n",
              "c  3</pre>\n",
              "      <script>\n",
              "      if (google.colab.kernel.accessAllowed && google.colab.files && google.colab.files.view) {\n",
              "        for (const element of document.querySelectorAll('.filepath')) {\n",
              "          element.style.display = 'block'\n",
              "          element.onclick = (event) => {\n",
              "            event.preventDefault();\n",
              "            event.stopPropagation();\n",
              "            google.colab.files.view(element.textContent, 490);\n",
              "          };\n",
              "        }\n",
              "      }\n",
              "      for (const element of document.querySelectorAll('.function-repr-contents')) {\n",
              "        element.onclick = (event) => {\n",
              "          event.preventDefault();\n",
              "          event.stopPropagation();\n",
              "          element.classList.toggle('function-repr-contents-collapsed');\n",
              "        };\n",
              "      }\n",
              "      </script>\n",
              "      </div>"
            ]
          },
          "metadata": {},
          "execution_count": 67
        }
      ]
    },
    {
      "source": [
        "from matplotlib import pyplot as plt\n",
        "import seaborn as sns\n",
        "df.groupby('GENERO').size().plot(kind='barh', color=sns.palettes.mpl_palette('Dark2'))\n",
        "plt.gca().spines[['top', 'right',]].set_visible(False)"
      ],
      "cell_type": "code",
      "execution_count": 68,
      "outputs": [
        {
          "output_type": "display_data",
          "data": {
            "text/plain": [
              "<Figure size 640x480 with 1 Axes>"
            ],
            "image/png": "[encoded data removed]"
          },
          "metadata": {}
        }
      ],
      "metadata": {
        "colab": {
          "base_uri": "https://localhost:8080/",
          "height": 434
        },
        "id": "aJxkgkf86QgT",
        "outputId": "05c409de-33b2-4da1-c7f1-4804592378cf"
      }
    },
    {
      "source": [
        "from matplotlib import pyplot as plt\n",
        "import seaborn as sns\n",
        "df.groupby('ESTADO').size().plot(kind='barh', color=sns.palettes.mpl_palette('Dark2'))\n",
        "plt.gca().spines[['top', 'right',]].set_visible(False)"
      ],
      "cell_type": "code",
      "execution_count": 69,
      "outputs": [
        {
          "output_type": "display_data",
          "data": {
            "text/plain": [
              "<Figure size 640x480 with 1 Axes>"
            ],
            "image/png": "[encoded data removed]"
          },
          "metadata": {}
        }
      ],
      "metadata": {
        "colab": {
          "base_uri": "https://localhost:8080/",
          "height": 434
        },
        "id": "35g2ag9T51Ho",
        "outputId": "2bcc36c2-fc52-485e-cda1-a71179b0aeed"
      }
    },
    {
      "cell_type": "code",
      "source": [
        "plt.figure(figsize=(10,6))\n",
        "sns.countplot(x='GENERO', data=df)\n",
        "plt.title('Contagem de Gênero')\n",
        "plt.xlabel('Gênero')\n",
        "plt.ylabel('Frequência')\n",
        "plt.show()"
      ],
      "metadata": {
        "colab": {
          "base_uri": "https://localhost:8080/",
          "height": 573
        },
        "id": "09TZcRVs6Jsc",
        "outputId": "3916ef3a-34e9-4b48-c2b2-d054606a2d78"
      },
      "execution_count": 72,
      "outputs": [
        {
          "output_type": "display_data",
          "data": {
            "text/plain": [
              "<Figure size 1000x600 with 1 Axes>"
            ],
            "image/png": "[encoded data removed]"
          },
          "metadata": {}
        }
      ]
    },
    {
      "cell_type": "markdown",
      "source": [
        "#2 Corrigir os dados faltantes e preencher as lacunas com valores adequados;"
      ],
      "metadata": {
        "id": "346txd2DP2zE"
      }
    },
    {
      "cell_type": "code",
      "source": [
        "df.isnull().sum()"
      ],
      "metadata": {
        "colab": {
          "base_uri": "https://localhost:8080/"
        },
        "id": "G1VH2HYQ0hjX",
        "outputId": "dca48078-92f9-4827-b18d-eedff4a9a531"
      },
      "execution_count": 74,
      "outputs": [
        {
          "output_type": "execute_result",
          "data": {
            "text/plain": [
              "ID                0\n",
              "PONTOS            0\n",
              "ESTADO            0\n",
              "GENERO            8\n",
              "IDADE             0\n",
              "BENS              0\n",
              "SALDO NA CONTA    0\n",
              "PRODUTO           0\n",
              "POSSUI CARTAO     0\n",
              "ATIVO             0\n",
              "SALARIO           7\n",
              "SAIU              0\n",
              "dtype: int64"
            ]
          },
          "metadata": {},
          "execution_count": 74
        }
      ]
    },
    {
      "cell_type": "code",
      "source": [
        "df['GENERO'].value_counts()"
      ],
      "metadata": {
        "colab": {
          "base_uri": "https://localhost:8080/"
        },
        "id": "VVoZJfwu1TyW",
        "outputId": "bdbc486b-dbf2-4c79-8f4b-b67c363f9d4a"
      },
      "execution_count": 75,
      "outputs": [
        {
          "output_type": "execute_result",
          "data": {
            "text/plain": [
              "GENERO\n",
              "Masculino    521\n",
              "Feminino     461\n",
              "M              6\n",
              "F              2\n",
              "Fem            1\n",
              "Name: count, dtype: int64"
            ]
          },
          "metadata": {},
          "execution_count": 75
        }
      ]
    },
    {
      "cell_type": "code",
      "source": [
        "numeric_columns = df.select_dtypes(include=['float64', 'int64']).columns\n",
        "df[numeric_columns] = df[numeric_columns].fillna(df[numeric_columns].mean())"
      ],
      "metadata": {
        "id": "H36xHbN00Sou"
      },
      "execution_count": 76,
      "outputs": []
    },
    {
      "cell_type": "code",
      "source": [
        "moda = df['GENERO'].mode()[0]\n",
        "df_mode = df.copy()\n",
        "df_mode['GENERO'] = df_mode['GENERO'].fillna(moda)"
      ],
      "metadata": {
        "id": "zvShL6L-01rd"
      },
      "execution_count": 77,
      "outputs": []
    },
    {
      "cell_type": "code",
      "source": [
        "moda_genero = df['GENERO'].mode()[0]\n",
        "moda_genero"
      ],
      "metadata": {
        "colab": {
          "base_uri": "https://localhost:8080/",
          "height": 35
        },
        "id": "OLnxkE5_00HW",
        "outputId": "df11e743-f9fc-46f1-a254-ff7953a194ed"
      },
      "execution_count": 78,
      "outputs": [
        {
          "output_type": "execute_result",
          "data": {
            "text/plain": [
              "'Masculino'"
            ],
            "application/vnd.google.colaboratory.intrinsic+json": {
              "type": "string"
            }
          },
          "metadata": {},
          "execution_count": 78
        }
      ]
    },
    {
      "cell_type": "code",
      "source": [
        "df['GENERO'].fillna(moda_genero, inplace=True)"
      ],
      "metadata": {
        "id": "qXux2HLj1wA2"
      },
      "execution_count": 79,
      "outputs": []
    },
    {
      "cell_type": "code",
      "source": [
        "df.isnull().sum()"
      ],
      "metadata": {
        "colab": {
          "base_uri": "https://localhost:8080/"
        },
        "id": "7nmaTmhT0rnv",
        "outputId": "a4d25258-3984-42bc-f7ae-882ef289a31b"
      },
      "execution_count": 80,
      "outputs": [
        {
          "output_type": "execute_result",
          "data": {
            "text/plain": [
              "ID                0\n",
              "PONTOS            0\n",
              "ESTADO            0\n",
              "GENERO            0\n",
              "IDADE             0\n",
              "BENS              0\n",
              "SALDO NA CONTA    0\n",
              "PRODUTO           0\n",
              "POSSUI CARTAO     0\n",
              "ATIVO             0\n",
              "SALARIO           0\n",
              "SAIU              0\n",
              "dtype: int64"
            ]
          },
          "metadata": {},
          "execution_count": 80
        }
      ]
    },
    {
      "cell_type": "markdown",
      "source": [
        "#3 Eliminar os outliers, atribuindo no lugar deles os valores adequados;"
      ],
      "metadata": {
        "id": "JKmIR4URQAwe"
      }
    },
    {
      "cell_type": "code",
      "source": [
        "def identify_outliers_iqr(df, column):\n",
        "    Q1 = df[column].quantile(0.25)\n",
        "    Q3 = df[column].quantile(0.75)\n",
        "    IQR = Q3 - Q1\n",
        "    lower_bound = Q1 - 1.5 * IQR\n",
        "    upper_bound = Q3 + 1.5 * IQR\n",
        "    outliers = df[(df[column] < lower_bound) | (df[column] > upper_bound)]\n",
        "    return outliers\n",
        "\n"
      ],
      "metadata": {
        "id": "USln3SRq2kC-"
      },
      "execution_count": 82,
      "outputs": []
    },
    {
      "cell_type": "markdown",
      "source": [
        "Verificar outliers na coluna 'IDADE'"
      ],
      "metadata": {
        "id": "AXPL96-hQGgW"
      }
    },
    {
      "cell_type": "code",
      "source": [
        "outliers_idade = identify_outliers_iqr(df, 'IDADE')\n",
        "print(\"Outliers na coluna 'IDADE':\")\n",
        "print(outliers_idade)"
      ],
      "metadata": {
        "colab": {
          "base_uri": "https://localhost:8080/"
        },
        "id": "CD8mlXy7QJ-2",
        "outputId": "67c7e995-55aa-44b2-f41d-cbf38b19307b"
      },
      "execution_count": 83,
      "outputs": [
        {
          "output_type": "stream",
          "name": "stdout",
          "text": [
            "Outliers na coluna 'IDADE':\n",
            "      ID  PONTOS ESTADO     GENERO  IDADE  BENS  SALDO NA CONTA  PRODUTO  \\\n",
            "58    59   511.0     CE   Feminino     66   4.0             0.0      1.0   \n",
            "85    87   652.0     CE   Feminino     75  10.0             0.0      2.0   \n",
            "104  106   670.0     CE   Feminino     65   1.0             0.0      1.0   \n",
            "158  160   646.0     MA   Feminino     73   6.0       9725925.0      1.0   \n",
            "181  183   510.0     MA  Masculino     65   2.0             0.0      2.0   \n",
            "230  232   673.0     MA  Masculino     72   1.0             0.0      2.0   \n",
            "234  236   585.0     MA   Feminino     67   5.0      11397897.0      2.0   \n",
            "243  245   659.0     CE  Masculino     67   6.0       1174116.0      1.0   \n",
            "252  254   681.0     MA   Feminino     79   0.0             0.0      2.0   \n",
            "310  312   652.0     MA   Feminino     80   4.0             0.0      2.0   \n",
            "364  366   640.0     MA  Masculino     68   9.0             0.0      2.0   \n",
            "371  373   640.0     CE   Feminino     75   1.0      10630791.0      2.0   \n",
            "385  387   560.0     MA   Feminino     66   9.0             0.0      1.0   \n",
            "399  401   616.0     MA   Feminino     66   1.0      13584241.0      1.0   \n",
            "559  561   850.0     CE   Feminino     70   5.0             0.0      1.0   \n",
            "567  569   687.0     CE   Feminino     63   1.0      13771566.0      1.0   \n",
            "602  604   687.0     MA   Feminino     72   9.0             0.0      1.0   \n",
            "612  614   605.0     MA   Feminino     64   2.0       1295557.0      1.0   \n",
            "658  660   544.0     MA  Masculino     64   9.0      11382945.0      1.0   \n",
            "678  680   788.0     CE   Feminino     70   1.0             0.0      2.0   \n",
            "736  738   816.0     CE  Masculino     67   6.0      15185898.0      1.0   \n",
            "766  768   700.0     MA   Feminino     82   2.0             0.0      2.0   \n",
            "769  771   531.0     MA   Feminino     63   1.0      11471571.0      1.0   \n",
            "807  809   628.0     MA  Masculino     69   5.0             0.0      2.0   \n",
            "811  813   681.0     CE  Masculino     65   7.0       1347147.0      2.0   \n",
            "823  825   732.0     CE   Feminino     69   9.0      13745343.0      1.0   \n",
            "851  853   667.0     CE   Feminino      0   1.0       9713392.0      2.0   \n",
            "859  861   598.0     MA  Masculino     64   1.0             0.0      2.0   \n",
            "867  869   636.0     MA   Feminino    -10   1.0      17083346.0      1.0   \n",
            "884  886   515.0     MA  Masculino     65   7.0       9211361.0      1.0   \n",
            "887  889   585.0     MA  Masculino      0   2.0             0.0      2.0   \n",
            "888  890   733.0     CE  Masculino     74   3.0      10654553.0      1.0   \n",
            "930  932   661.0     CE  Masculino      0   6.0      13262898.0      1.0   \n",
            "931  933   564.0     CE  Masculino      0   9.0      10352275.0      2.0   \n",
            "947  949   715.0     MA   Feminino      0   5.0      11859041.0      1.0   \n",
            "948  950   659.0     MA  Masculino     67   4.0      14598187.0      1.0   \n",
            "952  954   571.0     CE   Feminino     66   9.0      11157701.0      1.0   \n",
            "957  959   771.0     CE   Feminino     67   8.0             0.0      2.0   \n",
            "963  965   529.0     CE  Masculino     63   4.0       9613411.0      3.0   \n",
            "969  971   649.0     CE  Masculino     70   9.0      11685471.0      2.0   \n",
            "984  986   773.0     MA  Masculino    -20   1.0      12453278.0      2.0   \n",
            "990  992   655.0     MA  Masculino    140   5.0         93147.0      2.0   \n",
            "\n",
            "     POSSUI CARTAO  ATIVO       SALARIO  SAIU  \n",
            "58             1.0    0.0  1.643110e+05   1.0  \n",
            "85             1.0    1.0  1.146758e+07   0.0  \n",
            "104            1.0    1.0  1.776557e+07   1.0  \n",
            "158            0.0    1.0  1.047197e+07   0.0  \n",
            "181            1.0    1.0  4.807161e+06   0.0  \n",
            "230            0.0    1.0  1.119812e+09   0.0  \n",
            "234            0.0    1.0  9.314611e+06   0.0  \n",
            "243            1.0    1.0  4.507109e+06   1.0  \n",
            "252            0.0    1.0  1.709690e+07   0.0  \n",
            "310            1.0    1.0  1.886031e+07   0.0  \n",
            "364            1.0    1.0  1.994934e+07   0.0  \n",
            "371            0.0    1.0  1.134288e+07   0.0  \n",
            "385            1.0    1.0  1.592849e+06   0.0  \n",
            "399            1.0    0.0  1.838405e+07   1.0  \n",
            "559            1.0    1.0  7.051800e+04   0.0  \n",
            "567            1.0    1.0  3.793874e+06   0.0  \n",
            "602            0.0    1.0  6.982940e+05   0.0  \n",
            "612            1.0    1.0  1.360179e+06   0.0  \n",
            "658            1.0    1.0  1.243415e+07   0.0  \n",
            "678            1.0    1.0  4.161062e+06   0.0  \n",
            "736            1.0    1.0  7.281431e+06   0.0  \n",
            "766            0.0    1.0  1.820554e+07   0.0  \n",
            "769            0.0    1.0  2.450695e+06   1.0  \n",
            "807            1.0    1.0  1.819646e+06   0.0  \n",
            "811            0.0    1.0  1.904198e+07   0.0  \n",
            "823            0.0    1.0  1.109322e+07   1.0  \n",
            "851            0.0    0.0  1.133168e+07   1.0  \n",
            "859            1.0    0.0  1.956353e+06   1.0  \n",
            "867            1.0    0.0  1.105103e+07   1.0  \n",
            "884            1.0    1.0  1.425483e+07   0.0  \n",
            "887            1.0    1.0  1.865777e+06   0.0  \n",
            "888            1.0    1.0  1.345896e+07   0.0  \n",
            "930            0.0    0.0  3.881267e+06   0.0  \n",
            "931            1.0    1.0  3.433821e+06   0.0  \n",
            "947            1.0    1.0  5.684170e+05   1.0  \n",
            "948            1.0    1.0  1.310432e+06   0.0  \n",
            "952            0.0    1.0  1.892719e+06   0.0  \n",
            "957            1.0    1.0  5.121980e+05   0.0  \n",
            "963            1.0    0.0  1.087330e+07   1.0  \n",
            "969            0.0    1.0  1.071258e+07   0.0  \n",
            "984            0.0    1.0  1.172357e+06   0.0  \n",
            "990            1.0    0.0  6.621413e+06   0.0  \n"
          ]
        }
      ]
    },
    {
      "cell_type": "markdown",
      "source": [
        "Identificar outliers usando o método do IQR"
      ],
      "metadata": {
        "id": "kA6UuU_qQYmV"
      }
    },
    {
      "cell_type": "code",
      "source": [
        "Q1 = df['IDADE'].quantile(0.25)\n",
        "Q3 = df['IDADE'].quantile(0.75)\n",
        "IQR = Q3 - Q1"
      ],
      "metadata": {
        "id": "1cxDa8X8QX5k"
      },
      "execution_count": 84,
      "outputs": []
    },
    {
      "cell_type": "markdown",
      "source": [
        "Definir limites para identificar outliers"
      ],
      "metadata": {
        "id": "2Arqc_izQcBl"
      }
    },
    {
      "cell_type": "code",
      "source": [
        "limite_inferior = Q1 - 1.5 * IQR\n",
        "limite_superior = Q3 + 1.5 * IQR"
      ],
      "metadata": {
        "id": "bYE9UOp9Qdq2"
      },
      "execution_count": 85,
      "outputs": []
    },
    {
      "cell_type": "markdown",
      "source": [
        "Substituir outliers pela mediana"
      ],
      "metadata": {
        "id": "26QdcKckQfse"
      }
    },
    {
      "cell_type": "code",
      "source": [
        "mediana = df['IDADE'].median()\n",
        "df['IDADE'] = np.where((df['IDADE'] < limite_inferior) | (df['IDADE'] > limite_superior), mediana, df['IDADE'])\n",
        "\n",
        "print(df)"
      ],
      "metadata": {
        "colab": {
          "base_uri": "https://localhost:8080/"
        },
        "id": "5xIK7yUWQhcF",
        "outputId": "07a95b7f-fae8-4596-c760-830ef9a18c24"
      },
      "execution_count": 86,
      "outputs": [
        {
          "output_type": "stream",
          "name": "stdout",
          "text": [
            "       ID  PONTOS ESTADO     GENERO  IDADE  BENS  SALDO NA CONTA  PRODUTO  \\\n",
            "0       1   619.0     BA   Feminino   42.0   2.0             0.0      1.0   \n",
            "1       2   608.0     CE   Feminino   41.0   1.0       8380786.0      1.0   \n",
            "2       3   502.0     BA   Feminino   42.0   8.0       1596608.0      3.0   \n",
            "3       4   699.0     BA   Feminino   39.0   1.0             0.0      2.0   \n",
            "4       5   850.0     CE   Feminino   43.0   2.0      12551082.0      1.0   \n",
            "..    ...     ...    ...        ...    ...   ...             ...      ...   \n",
            "994   996   838.0     CE  Masculino   43.0   9.0      12310588.0      2.0   \n",
            "995   997   610.0     CE  Masculino   29.0   9.0             0.0      3.0   \n",
            "996   998   811.0     CE  Masculino   44.0   3.0             0.0      2.0   \n",
            "997   999   587.0     CE  Masculino   62.0   7.0      12128627.0      1.0   \n",
            "998  1000   811.0     CE   Feminino   28.0   4.0      16773882.0      2.0   \n",
            "\n",
            "     POSSUI CARTAO  ATIVO     SALARIO  SAIU  \n",
            "0              1.0    1.0  10134888.0   1.0  \n",
            "1              0.0    1.0  11254258.0   0.0  \n",
            "2              1.0    0.0  11393157.0   1.0  \n",
            "3              0.0    0.0   9382663.0   0.0  \n",
            "4              1.0    1.0    790841.0   0.0  \n",
            "..             ...    ...         ...   ...  \n",
            "994            1.0    0.0  14576583.0   0.0  \n",
            "995            0.0    1.0   8391224.0   0.0  \n",
            "996            0.0    1.0   7843973.0   0.0  \n",
            "997            0.0    1.0    677692.0   0.0  \n",
            "998            1.0    1.0    990342.0   0.0  \n",
            "\n",
            "[999 rows x 12 columns]\n"
          ]
        }
      ]
    },
    {
      "cell_type": "markdown",
      "source": [
        "# Boxplot para visualizar outliers"
      ],
      "metadata": {
        "id": "URze0dvJtGN6"
      }
    },
    {
      "cell_type": "code",
      "source": [
        "plt.boxplot(df['IDADE'])\n",
        "plt.title('Boxplot da Idade')\n",
        "plt.ylabel('Idade')\n",
        "plt.show()"
      ],
      "metadata": {
        "colab": {
          "base_uri": "https://localhost:8080/",
          "height": 457
        },
        "id": "emqyBu8os7Dv",
        "outputId": "f6a75f67-32ea-47ce-865d-4019c6012544"
      },
      "execution_count": 87,
      "outputs": [
        {
          "output_type": "display_data",
          "data": {
            "text/plain": [
              "<Figure size 640x480 with 1 Axes>"
            ],
            "image/png": "[encoded data removed]"
          },
          "metadata": {}
        }
      ]
    },
    {
      "cell_type": "markdown",
      "source": [
        "#4 Eliminar os duplicados, para garantir a unicidade das informações;"
      ],
      "metadata": {
        "id": "XLaRpGKjQoGj"
      }
    },
    {
      "cell_type": "code",
      "source": [
        "df.drop_duplicates(subset=['ID', 'GENERO'], inplace=True)"
      ],
      "metadata": {
        "id": "POD1WwPr3n83"
      },
      "execution_count": 88,
      "outputs": []
    },
    {
      "cell_type": "markdown",
      "source": [
        "#5 Substituir os NANs por valores adequados;"
      ],
      "metadata": {
        "id": "oMZAnCGTQrQd"
      }
    },
    {
      "cell_type": "code",
      "source": [
        "duplicados = df.duplicated()\n",
        "duplicados"
      ],
      "metadata": {
        "colab": {
          "base_uri": "https://localhost:8080/"
        },
        "id": "8fB6ufJL3pdP",
        "outputId": "4c590f5c-476c-4b47-fb2b-c4ca48415fc7"
      },
      "execution_count": 89,
      "outputs": [
        {
          "output_type": "execute_result",
          "data": {
            "text/plain": [
              "0      False\n",
              "1      False\n",
              "2      False\n",
              "3      False\n",
              "4      False\n",
              "       ...  \n",
              "994    False\n",
              "995    False\n",
              "996    False\n",
              "997    False\n",
              "998    False\n",
              "Length: 998, dtype: bool"
            ]
          },
          "metadata": {},
          "execution_count": 89
        }
      ]
    },
    {
      "cell_type": "markdown",
      "source": [
        "#6 Corrigir os dados categóricos, por exemplo, \"Mas\" para \"Masculino\" e \"Fem\" para \"Feminino\" para adequá-los ao padrão dos demais"
      ],
      "metadata": {
        "id": "Tq4vDmhLdydm"
      }
    },
    {
      "cell_type": "code",
      "source": [
        "df['GENERO'] = df['GENERO'].replace({'M': 'Masculino', 'F': 'Feminino','Fem':'Feminino'})\n"
      ],
      "metadata": {
        "id": "zxdqaYay0IS-"
      },
      "execution_count": 90,
      "outputs": []
    },
    {
      "cell_type": "markdown",
      "source": [
        "# Verificar o resultado"
      ],
      "metadata": {
        "id": "W6HCYJfrd5he"
      }
    },
    {
      "cell_type": "code",
      "source": [
        "df['GENERO'].value_counts()"
      ],
      "metadata": {
        "id": "rtC5sluCd8iK",
        "colab": {
          "base_uri": "https://localhost:8080/"
        },
        "outputId": "053903ed-1cb3-4deb-dc77-dc6a6cf4bd3a"
      },
      "execution_count": 91,
      "outputs": [
        {
          "output_type": "execute_result",
          "data": {
            "text/plain": [
              "GENERO\n",
              "Masculino    535\n",
              "Feminino     463\n",
              "Name: count, dtype: int64"
            ]
          },
          "metadata": {},
          "execution_count": 91
        }
      ]
    }
  ]
}